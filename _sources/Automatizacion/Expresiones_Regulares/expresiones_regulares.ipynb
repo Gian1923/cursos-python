{
 "cells": [
  {
   "cell_type": "markdown",
   "metadata": {},
   "source": [
    "<div align=\"center\"><a href=\"https://colab.research.google.com/github/institutohumai/cursos-python/blob/master/Automatizacion/expresiones_regulares.ipynb\"> <img src='https://colab.research.google.com/assets/colab-badge.svg'/> </a> <br> Recordá abrir en una nueva pestaña </div>"
   ]
  },
  {
   "cell_type": "markdown",
   "metadata": {},
   "source": [
    "## Expresiones Regulares"
   ]
  },
  {
   "cell_type": "markdown",
   "metadata": {
    "id": "IIprwSHYA0aA"
   },
   "source": [
    "También conocido popularmente como **RegEx**. Son un mini lenguaje de programación diseñado para realizar búsquedas en strings. Son extremadamente útiles para:\n",
    "- Extraer datos de distintos tipos de archivos, texto o con otro tipo de codificación.\n",
    "- Web scraping: como veremos en las próximas clases, las regex son un buen método para encontrar la información que se necesita en un sitio web.\n",
    "- Limpieza de datos: herramienta fundamental en el repertorio del científico de datos para limpiar datos quitando caracteres \"ruidosos\", o armando nuevos \"features\" según la presencia o no de cierto texto."
   ]
  },
  {
   "cell_type": "markdown",
   "metadata": {
    "id": "O_E5sG15A0aB"
   },
   "source": [
    "#### Recursos útiles\n",
    "\n",
    "- [Sitio para armar RegEx online](https://regexr.com/)\n",
    "- [Alternativa](https://regex101.com/)\n",
    "- [CheatSheet](https://www.dataquest.io/wp-content/uploads/2019/03/python-regular-expressions-cheat-sheet.pdf)\n"
   ]
  },
  {
   "cell_type": "markdown",
   "metadata": {},
   "source": [
    "Python utiliza la libreria llamada **re** para todo lo relacionado a regular expressions"
   ]
  },
  {
   "cell_type": "code",
   "execution_count": null,
   "metadata": {
    "id": "h2kqp9jZA0aD"
   },
   "outputs": [],
   "source": [
    "import re\n",
    "\n",
    "# a- extraer números de una oración.\n",
    "texto = \"Mi nombre es Juan y mi teléfono es 1564232324\"\n",
    "regla_de_busqueda = \"15\\d+\"\n",
    "print(texto)\n",
    "print(re.findall(regla_de_busqueda,texto))"
   ]
  },
  {
   "cell_type": "markdown",
   "metadata": {
    "id": "BhrBctRSA0aB"
   },
   "source": [
    "Las funciones principales de la librería re son:\n",
    "- re.findall(pattern, string) para encontrar todos los resultados de una búsqueda\n",
    "- re.search(pattern, string) para encontrar el primer resultado que coincida\n",
    "- re.sub(pattern, replace, string) para substituir un texto por otro"
   ]
  },
  {
   "cell_type": "markdown",
   "metadata": {
    "id": "sZI-yZHCA0aB"
   },
   "source": [
    "\n",
    "<h2><center>Sintaxis para construir regex</center></h2>\n",
    "\n",
    "\n",
    "<h3><center>Grupos de captura</center></h3>\n",
    "\n",
    "\n",
    "|     |                       |\n",
    "|-----|-----------------------|\n",
    "| ()  | grupo de captura      |\n",
    "|(?:) | grupo de no captura   |\n",
    "\n",
    "<h3><center>Tipos de datos</center></h3>\n",
    "\n",
    "\n",
    "|     |                      |          |                         |\n",
    "|----|-----------------------|----------|-------------------------|\n",
    "| \\w | caracter alfanumérico | .        | cualquier cosa menos \\n |\n",
    "| \\d | dígito                | \\|       | operador \"or\"           |\n",
    "| \\s | espacio en blanco     | [m-z3-9] | rangos                  |\n",
    "| \\n | paso de línea         | \\W       | Con mayusc. negamos. Ej: NO alfanumérico|\n",
    "\n",
    "<h3><center>Operadores</center></h3>\n",
    "\n",
    "|         |                      |\n",
    "|---------|----------------------|\n",
    "| \\|      | operador \"or\"        |\n",
    "| \\\\      | Escapar, o interpretar literalmente |\n",
    "| []      | conjunto             |\n",
    "|[m-z3-9] | rangos               |\n",
    "\n",
    "\n",
    "<h3><center>Cuantificadores</center></h3>\n",
    "\n",
    "|      |                                              |\n",
    "|------|----------------------------------------------|\n",
    "| +    | Uno o más del elemento anterior              |\n",
    "| *    | Cero o más del elemento anterior             |\n",
    "| {4,} | Cuatro o más del elemento anterior           |\n",
    "| ?    | Cambia el operador anterior de lazy a greedy |"
   ]
  },
  {
   "cell_type": "markdown",
   "metadata": {
    "id": "EBrQinMNA0aD"
   },
   "source": [
    "#### ¿Cómo se usa? Veamos ejemplos"
   ]
  },
  {
   "cell_type": "code",
   "execution_count": 68,
   "metadata": {
    "id": "h2kqp9jZA0aD"
   },
   "outputs": [
    {
     "data": {
      "text/plain": [
       "['1564232324']"
      ]
     },
     "execution_count": 68,
     "metadata": {},
     "output_type": "execute_result"
    }
   ],
   "source": [
    "# En realidad los telefonos no son cualquier seguidilla de numeros\n",
    "# suelen tener entre 6 y 8 numeros despues del 15\n",
    "texto = \"Mi nombre es María y mi teléfono es 1564232324\"\n",
    "regla_de_busqueda = \"15\\d{6,8}\"\n",
    "re.findall(regla_de_busqueda,texto)"
   ]
  },
  {
   "cell_type": "code",
   "execution_count": 67,
   "metadata": {
    "id": "h2kqp9jZA0aD"
   },
   "outputs": [
    {
     "data": {
      "text/plain": [
       "['1164232324']"
      ]
     },
     "execution_count": 67,
     "metadata": {},
     "output_type": "execute_result"
    }
   ],
   "source": [
    "# En realidad los telefonos no arrancan siempre con 15\n",
    "# capaz empiezan con 11 si son de buenos aires por ejemplo\n",
    "texto = \"Mi nombre es Carlos y mi teléfono es 1164232324\"\n",
    "regla_de_busqueda = \"(?:15|11)\\d{6,8}\"\n",
    "re.findall(regla_de_busqueda,texto)"
   ]
  },
  {
   "cell_type": "code",
   "execution_count": 69,
   "metadata": {
    "id": "h2kqp9jZA0aD"
   },
   "outputs": [
    {
     "data": {
      "text/plain": [
       "['11 6423-2324']"
      ]
     },
     "execution_count": 69,
     "metadata": {},
     "output_type": "execute_result"
    }
   ],
   "source": [
    "# En realidad los telefonos pueden tener un guión o espacio a parte de números\n",
    "texto = \"Mi nombre es asfasfeaf33 y mi teléfono es 11 6423-2324\"\n",
    "regla_de_busqueda = \"(?:15|11)[0-9\\s-]{6,10}\"\n",
    "re.findall(regla_de_busqueda,texto)"
   ]
  },
  {
   "cell_type": "code",
   "execution_count": 70,
   "metadata": {
    "id": "h2kqp9jZA0aD"
   },
   "outputs": [
    {
     "data": {
      "text/plain": [
       "['MES DE JUNIO']"
      ]
     },
     "execution_count": 70,
     "metadata": {},
     "output_type": "execute_result"
    }
   ],
   "source": [
    "# b- Como extraer el mes de un texto\n",
    "texto = \"REPORTE DE PERFOMANCE - MES DE JUNIO\"\n",
    "regla_de_busqueda = \"(MES DE (?:JULIO|AGOSTO|JUNIO))\"\n",
    "re.findall(regla_de_busqueda,texto)"
   ]
  },
  {
   "cell_type": "code",
   "execution_count": 71,
   "metadata": {
    "id": "aSt52ODDA0aE"
   },
   "outputs": [
    {
     "name": "stdout",
     "output_type": "stream",
     "text": [
      "['me llamo pedro', ' me gusta el rock']\n",
      "['me llamo pedro. me gusta el rock']\n"
     ]
    }
   ],
   "source": [
    "# ¿Cómo hago que pare de buscar el operador * ?\n",
    "text = \"me llamo pedro. me gusta el rock.\"\n",
    "regla_de_busqueda_no_greedy = \"(.*?)\\.\"\n",
    "regla_de_busqueda_greedy = \"(.*)\\.\"\n",
    "print(re.findall(regla_de_busqueda_no_greedy,text))\n",
    "print(re.findall(regla_de_busqueda_greedy,text))"
   ]
  },
  {
   "cell_type": "code",
   "execution_count": 60,
   "metadata": {
    "collapsed": false,
    "id": "PcB0jYBiA0aF",
    "jupyter": {
     "outputs_hidden": false
    }
   },
   "outputs": [
    {
     "name": "stdout",
     "output_type": "stream",
     "text": [
      "['1565525233']\n",
      "['mariadominguez']\n"
     ]
    }
   ],
   "source": [
    "import re\n",
    "\n",
    "comentario_de_mercadolibre = 'hola soy @mariadominguez, me interesa el producto, te dejo mi celu 1565525233, saludos'\n",
    "\n",
    "def encontrar_telefonos(texto):\n",
    "    regla_de_busqueda = r'(15[0-9]{8})'\n",
    "    return re.findall(regla_de_busqueda, texto)\n",
    "\n",
    "def encontrar_usuarios(texto):\n",
    "    regla_de_busqueda = r'@([a-zA-Z]+)'\n",
    "    return re.findall(regla_de_busqueda, texto)\n",
    "\n",
    "print(encontrar_telefonos(comentario_de_mercadolibre))\n",
    "print(encontrar_usuarios(comentario_de_mercadolibre))"
   ]
  },
  {
   "cell_type": "markdown",
   "metadata": {
    "id": "ytqMqTahA0aF"
   },
   "source": [
    "#### Ejercicio"
   ]
  },
  {
   "cell_type": "markdown",
   "metadata": {
    "id": "7UXUMzUPA0aF"
   },
   "source": [
    "Usa regex para hacer una función que busque todos los emails en un texto"
   ]
  },
  {
   "cell_type": "code",
   "execution_count": 63,
   "metadata": {
    "id": "rEbut8flA0aG"
   },
   "outputs": [
    {
     "data": {
      "text/plain": [
       "['python@hotmail.com', 'pedro_2010@yahoo.com']"
      ]
     },
     "execution_count": 63,
     "metadata": {},
     "output_type": "execute_result"
    }
   ],
   "source": [
    "# Resolución \n",
    "\n",
    "texto = \"Hola te paso mi mail python@hotmail.com, saludos. Si no te funciona mandame a este otro, pedro_2010@yahoo.com\"\n",
    "encontrar_emails(texto)"
   ]
  },
  {
   "cell_type": "markdown",
   "metadata": {},
   "source": [
    "Ejercicio\n",
    "\n",
    "Vamos a usar como ejemplo el [DSM](https://en.wikipedia.org/wiki/Diagnostic_and_Statistical_Manual_of_Mental_Disorders), el libro de psiquiatría más importante en el mundo, en formato txt. El mismo se descargó en PDF y convirtió a texto usando [textract](https://textract.readthedocs.io/en/stable/), una cómoda librería de Python.\n",
    "\n",
    "De este texto:\n",
    "\n",
    "1. Extraer los nombres de los médicos que aparecen.\n",
    "\n",
    "Extracto de ejemplo:\n",
    "\n",
    "```\n",
    "Allan Burstein, M.D.\n",
    "David M. Clark, Ph.D.\n",
    "Lee Anna Clark, Ph.D.\n",
    "Deborah S. Cowley, M.D.\n",
    "```\n",
    "\n",
    "Es decir, en **cada renglón** sigue el patrón \"[nombres], M.D.\".\n",
    "\n",
    "Tip: recuerden cómo se representa el paso de línea (o \"newline\")!"
   ]
  },
  {
   "cell_type": "code",
   "execution_count": 17,
   "metadata": {},
   "outputs": [
    {
     "name": "stdout",
     "output_type": "stream",
     "text": [
      "--2021-10-04 20:30:07--  https://unket.s3.sa-east-1.amazonaws.com/data/DSM.txt\n",
      "Resolving unket.s3.sa-east-1.amazonaws.com (unket.s3.sa-east-1.amazonaws.com)... 52.95.163.122\n",
      "Connecting to unket.s3.sa-east-1.amazonaws.com (unket.s3.sa-east-1.amazonaws.com)|52.95.163.122|:443... connected.\n",
      "HTTP request sent, awaiting response... 200 OK\n",
      "Length: 2445688 (2,3M) [text/plain]\n",
      "Saving to: ‘DSM.txt’\n",
      "\n",
      "DSM.txt             100%[===================>]   2,33M  2,04MB/s    in 1,1s    \n",
      "\n",
      "2021-10-04 20:30:09 (2,04 MB/s) - ‘DSM.txt’ saved [2445688/2445688]\n",
      "\n"
     ]
    }
   ],
   "source": [
    "# Descargamos el texto\n",
    "!wget -nc https://unket.s3.sa-east-1.amazonaws.com/data/DSM.txt"
   ]
  },
  {
   "cell_type": "code",
   "execution_count": 18,
   "metadata": {},
   "outputs": [],
   "source": [
    "import re\n",
    "\n",
    "with open('DSM.txt', 'r') as inp:\n",
    "    texto = inp.read()"
   ]
  },
  {
   "cell_type": "code",
   "execution_count": 26,
   "metadata": {},
   "outputs": [
    {
     "data": {
      "text/plain": [
       "['ALLEN FRANCES, M.D.',\n",
       " 'HAROLD ALAN PINCUS, M.D.',\n",
       " 'MICHAEL B. FIRST, M.D.',\n",
       " 'Magda Campbell, M.D.',\n",
       " 'Judith H. Gold, M.D.',\n",
       " 'Robert E. Hales, M.D.',\n",
       " 'David J. Kupfer, M.D.',\n",
       " 'Roger Peele, M.D.',\n",
       " 'A. John Rush, M.D.',\n",
       " 'Marc Alan Schuckit, M.D.']"
      ]
     },
     "execution_count": 26,
     "metadata": {},
     "output_type": "execute_result"
    }
   ],
   "source": [
    "# Completar \n"
   ]
  },
  {
   "cell_type": "markdown",
   "metadata": {},
   "source": [
    "Ahora buscar a las personas con PhDs (observen el extracto anterior)"
   ]
  },
  {
   "cell_type": "code",
   "execution_count": 45,
   "metadata": {},
   "outputs": [
    {
     "data": {
      "text/plain": [
       "['Nancy Coover Andreasen, M.D., Ph.D.',\n",
       " 'Ellen Frank, Ph.D.',\n",
       " 'Juan Enrique Mezzich, M.D., Ph.D.',\n",
       " 'Edna Foa, Ph.D.',\n",
       " 'Rachel Klein, Ph.D.',\n",
       " 'Rolf Loeber, Ph.D.',\n",
       " 'Rhea Paul, Ph.D.',\n",
       " 'G. Terence Wilson, Ph.D.',\n",
       " 'Ellen Frank, Ph.D.',\n",
       " 'Juan Enrique Mezzich, M.D., Ph.D.']"
      ]
     },
     "execution_count": 45,
     "metadata": {},
     "output_type": "execute_result"
    }
   ],
   "source": []
  },
  {
   "cell_type": "markdown",
   "metadata": {},
   "source": [
    "Hacer una RegEx para extraer nombres de condiciones mentales, ejemplo:\n",
    "\n",
    "Ejemplo\n",
    "\n",
    "```\n",
    "Clinical judgment must be used in distinguishing developmentally appropriate\n",
    "levels of separation anxiety from the clinically significant concerns about separation\n",
    "seen in Separation Anxiety Disorder.\n",
    "I Diagnostic criteria for 309.21 Separation Anxiety\n",
    "Disorder\n",
    "A. Developmentally inappropriate and excessive anxiety concerning sep-\n",
    "aration\n",
    "```\n",
    "\n",
    "Debería dar \"Separation Anxiety\". Es decir, el patrón es: \"Diagnostic criteria for [números con punto] [nombre de la condicion]\"\n",
    "\n",
    "Tip: podemos hacer que el patrón contemple mayúsculas y minúsculas (con [A-Z] y [a-z]) o indicar un \"flag\" para que se ignoren las mayúsculas con\n",
    "\n",
    "```re.findall(patrón, string, flags=re.IGNORECASE)```"
   ]
  },
  {
   "cell_type": "code",
   "execution_count": 46,
   "metadata": {},
   "outputs": [
    {
     "data": {
      "text/plain": [
       "['Autistic Disorder',\n",
       " 'Autistic Disorder (continued)',\n",
       " \"Rett's Disorder\",\n",
       " \"Rett's Disorder (continued)\",\n",
       " 'Childhood',\n",
       " 'Childhood Disintegrative',\n",
       " \"Asperger's Disorder\",\n",
       " 'Conduct Disorder',\n",
       " 'Conduct Disorder (continued)',\n",
       " 'Oppositional Defiant']"
      ]
     },
     "execution_count": 46,
     "metadata": {},
     "output_type": "execute_result"
    }
   ],
   "source": []
  },
  {
   "cell_type": "code",
   "execution_count": null,
   "metadata": {},
   "outputs": [],
   "source": []
  },
  {
   "cell_type": "markdown",
   "metadata": {},
   "source": [
    "Extraer los nombres de los países de los profesionales que fueron colaboradores internacionales en esta última edición"
   ]
  },
  {
   "cell_type": "markdown",
   "metadata": {},
   "source": [
    "Extracto de ejemplo:\n",
    "\n",
    "```\n",
    "Michael Gelder, M.D. (England)\n",
    "Semyon Gluzman, M.D. (former USSR)\n",
    "Judith H. Gold, M.D. (Canada)\n",
    "Marcus Grant, Ph.D. (Switzerland)\n",
    "Herta A. Guttman, M.D. (Canada)\n",
    "Heinz Hafner, M.D. (Germany)\n",
    "Robert Hare, Ph.D. (Canada)\n",
    "```\n",
    "\n",
    "Pistas: \n",
    "1. Para que sea más sencillo consideren solo países cuyo nombre sea una sola palabra. \n",
    "2. También pueden considerar que siempre está **después de M.D. o de PhD.** (recuerden cómo buscar una u otra cosa!).\n",
    "3. Cuidado también con \"escapar\" los paréntesis literales"
   ]
  },
  {
   "cell_type": "code",
   "execution_count": 62,
   "metadata": {},
   "outputs": [],
   "source": [
    "paises = None"
   ]
  },
  {
   "cell_type": "markdown",
   "metadata": {},
   "source": [
    "Ahora contemos cuántas veces aparece cada país con la siguiente clase Counter. Simplemente pasen su lista de `paises` como argumento al constructor Counter() y les dará el resultado."
   ]
  },
  {
   "cell_type": "code",
   "execution_count": 57,
   "metadata": {},
   "outputs": [
    {
     "data": {
      "text/plain": [
       "Counter({'Sweden': 4,\n",
       "         'Uruguay': 1,\n",
       "         'Switzerland': 8,\n",
       "         'Nigeria': 1,\n",
       "         'England': 22,\n",
       "         'Austria': 2,\n",
       "         'Denmark': 5,\n",
       "         'Australia': 9,\n",
       "         'Hungary': 1,\n",
       "         'Poland': 3,\n",
       "         'Canada': 22,\n",
       "         'Ireland': 1,\n",
       "         'Italy': 4,\n",
       "         'Korea': 1,\n",
       "         'Brazil': 3,\n",
       "         'Argentina': 1,\n",
       "         'Norway': 4,\n",
       "         'Germany': 8,\n",
       "         'France': 4,\n",
       "         'Scotland': 2,\n",
       "         'Japan': 4,\n",
       "         'Netherlands': 5,\n",
       "         'Singapore': 2,\n",
       "         'Bulgaria': 1,\n",
       "         'Israel': 3,\n",
       "         'Spain': 1,\n",
       "         'Greece': 2,\n",
       "         'Belgium': 2,\n",
       "         'Kenya': 1,\n",
       "         'Egypt': 1,\n",
       "         'Luxembourg': 1,\n",
       "         'Finland': 2,\n",
       "         'Mexico': 1,\n",
       "         'Peru': 2,\n",
       "         'Venezuela': 1,\n",
       "         'Romania': 1,\n",
       "         'China': 1})"
      ]
     },
     "execution_count": 57,
     "metadata": {},
     "output_type": "execute_result"
    }
   ],
   "source": [
    "from collections import Counter\n",
    "\n",
    "Counter(paises)"
   ]
  }
 ],
 "metadata": {
  "kernelspec": {
   "display_name": "Python 3",
   "language": "python",
   "name": "python3"
  },
  "language_info": {
   "codemirror_mode": {
    "name": "ipython",
    "version": 3
   },
   "file_extension": ".py",
   "mimetype": "text/x-python",
   "name": "python",
   "nbconvert_exporter": "python",
   "pygments_lexer": "ipython3",
   "version": "3.8.8"
  }
 },
 "nbformat": 4,
 "nbformat_minor": 4
}
