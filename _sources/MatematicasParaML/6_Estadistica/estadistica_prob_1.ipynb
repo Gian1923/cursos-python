{
  "cells": [
    {
      "cell_type": "markdown",
      "metadata": {
        "id": "irNRWYUh7DpA"
      },
      "source": [
        "## Introducción a Estadística y Probabilidad\n",
        "\n",
        "- Definiciones de Probabilidad\n",
        "- Axiomas clásicos de la probabilidad\n",
        "- Definiciones de Estadística\n",
        "- Medidas de tendencia central\n",
        "  - Media o promedio\n",
        "  - Mediana\n",
        "  - Moda o modo\n",
        "- Medidas de dispersión\n",
        "  - Rango\n",
        "  - Varianza\n",
        "  - Desvio Estandar\n",
        "- Medidas de asociación\n",
        "  - Covarianza\n",
        "  - Correlación\n",
        "- Ley de grandes números\n",
        "- Teorema del Límite Central\n",
        "- MyPersonality\n",
        "\n"
      ]
    },
    {
      "cell_type": "code",
      "execution_count": null,
      "metadata": {
        "id": "bc29CtSceF6o"
      },
      "outputs": [],
      "source": [
        "import matplotlib.pyplot as plt \n",
        "import numpy as np\n",
        "import pandas as pd\n",
        "%matplotlib inline"
      ]
    },
    {
      "cell_type": "markdown",
      "metadata": {
        "id": "FyD2CuW99Rlz"
      },
      "source": [
        "## **Definiciones de Probabilidad**\n",
        "\n",
        "---\n",
        "* **Experimento** - un experimento o ensayo es un procedimiento que puede ser repetido infinitas veces y tiene un conjunto de salidas posibles bien definidas, conocido como espacio muestral.\n",
        "    * Ejemplo: tirar una moneda dos veces\n",
        "* **Espacio muestral ($\\Omega$)** - posibles resultados de un experimento\n",
        "    * Ejemplo (moneda): {CC, CS, SC, SS} (C = Cara, S = Seca)\n",
        "* **Evento** - Un subconjunto de salidas posibles\n",
        "    * Ejemplo (moneda): A = {CC} , B= {CS, SS}"
      ]
    },
    {
      "cell_type": "code",
      "execution_count": null,
      "metadata": {
        "id": "coJ4A4G8qQVF"
      },
      "outputs": [],
      "source": [
        "# Frecuencia de un evento = Cantidad de ocurrencias de ese evento / todos los eventos posibles"
      ]
    },
    {
      "cell_type": "code",
      "execution_count": null,
      "metadata": {
        "id": "alVlFQthBofv"
      },
      "outputs": [],
      "source": [
        "import numpy as np\n",
        "\n",
        "def tirar_dado():\n",
        "  return np.random.randint(1,7)"
      ]
    },
    {
      "cell_type": "code",
      "execution_count": null,
      "metadata": {
        "colab": {
          "base_uri": "https://localhost:8080/"
        },
        "id": "1Mp0cGF-qwYA",
        "outputId": "ee71e679-290f-4c34-ff6c-b394d8ea0e8e"
      },
      "outputs": [
        {
          "data": {
            "text/plain": [
              "5"
            ]
          },
          "execution_count": 44,
          "metadata": {
            "tags": []
          },
          "output_type": "execute_result"
        }
      ],
      "source": [
        "tirar_dado()"
      ]
    },
    {
      "cell_type": "markdown",
      "metadata": {
        "id": "JNmymB5CrB3p"
      },
      "source": [
        "Ejercicio:\n",
        "\n",
        "Tirar dado 1000 veces y guardar los resultados en una lista llamada \"resultados\""
      ]
    },
    {
      "cell_type": "code",
      "execution_count": null,
      "metadata": {
        "id": "EgUJBb0erMKv"
      },
      "outputs": [],
      "source": [
        "resultados = [tirar_dado() for i in range(100000)]"
      ]
    },
    {
      "cell_type": "code",
      "execution_count": null,
      "metadata": {
        "colab": {
          "base_uri": "https://localhost:8080/",
          "height": 369
        },
        "id": "vOeY8EdBj9c_",
        "outputId": "c192540a-1cd8-42bf-ff5c-8317b1e5c688"
      },
      "outputs": [
        {
          "data": {
            "image/png": "[encoded data removed]",
            "text/plain": [
              "<Figure size 360x360 with 1 Axes>"
            ]
          },
          "metadata": {
            "needs_background": "light",
            "tags": []
          },
          "output_type": "display_data"
        }
      ],
      "source": [
        "sns.displot(resultados);"
      ]
    },
    {
      "cell_type": "markdown",
      "metadata": {
        "id": "xpcmDqrXVROv"
      },
      "source": [
        "## **Medidas de tendencia central**"
      ]
    },
    {
      "cell_type": "markdown",
      "metadata": {
        "id": "I_9oDmT_7vVj"
      },
      "source": [
        "### Media o promedio\n",
        "\n",
        "Valor medio de nuestro conjunto de valores. Se consigue mediante la suma de los valores dividida la cantidad de estos: $${{\\mu}= {\\overline {x}} = {\\frac {1}{n}}\\sum _{i=1}^{n}x_{i}={\\frac {x_{1}+x_{2}+\\cdots +x_{n}}{n}}}$$"
      ]
    },
    {
      "cell_type": "markdown",
      "metadata": {
        "id": "UmkBkl2_iURv"
      },
      "source": [
        "Ejercicio: tirar el dado 10 veces y calcular el promedio"
      ]
    },
    {
      "cell_type": "code",
      "execution_count": null,
      "metadata": {
        "colab": {
          "base_uri": "https://localhost:8080/"
        },
        "id": "yUHMJ9b-kCM3",
        "outputId": "6b07a6be-8fda-4bf2-8956-d994b58ac1d5"
      },
      "outputs": [
        {
          "data": {
            "text/plain": [
              "3.4812"
            ]
          },
          "execution_count": 77,
          "metadata": {
            "tags": []
          },
          "output_type": "execute_result"
        }
      ],
      "source": [
        "resultados = []\n",
        "\n",
        "for i in range(10000):\n",
        "  resultados.append(tirar_dado())\n",
        "\n",
        "sum(resultados)/len(resultados)"
      ]
    },
    {
      "cell_type": "code",
      "execution_count": null,
      "metadata": {
        "id": "BCg3K642s-P7"
      },
      "outputs": [],
      "source": []
    },
    {
      "cell_type": "markdown",
      "metadata": {
        "id": "GLTjm8SGXovn"
      },
      "source": [
        "### Mediana\n",
        "Representa el valor de posición central en un conjunto de datos ordenados."
      ]
    },
    {
      "cell_type": "markdown",
      "metadata": {
        "id": "Vj5sXyblX4z4"
      },
      "source": [
        "### Moda o modo\n",
        "Valor que tiene mayor frecuencia absoluta. Son los picos que vemos en el histograma. Dependiendo de la la distribución de los datos puede existir más de una"
      ]
    },
    {
      "cell_type": "code",
      "execution_count": null,
      "metadata": {
        "cellView": "form",
        "colab": {
          "base_uri": "https://localhost:8080/",
          "height": 265
        },
        "id": "yNlD1jG7RrLm",
        "outputId": "07543c06-bc6a-4e60-d2c2-44b544dc5e63"
      },
      "outputs": [
        {
          "data": {
            "image/png": "[encoded data removed]",
            "text/plain": [
              "<Figure size 432x288 with 1 Axes>"
            ]
          },
          "metadata": {
            "needs_background": "light",
            "tags": []
          },
          "output_type": "display_data"
        }
      ],
      "source": [
        "#@title Medidas de Tendencia Central \n",
        "#@markdown Ejemplo distribucion asimétrica \n",
        "\n",
        "from matplotlib import pyplot as plt\n",
        "import seaborn as sns\n",
        "import numpy as np\n",
        "from scipy.stats import skewnorm, mode, gaussian_kde\n",
        "\n",
        "data = skewnorm.rvs(7, loc=0, scale=2, size=10000)\n",
        "ax = sns.kdeplot(data)\n",
        "\n",
        "def get_mode(data):\n",
        "  '''Para datos continuos'''\n",
        "  density = gaussian_kde(data)\n",
        "  xs = np.linspace(-1,1,100)\n",
        "  ys = density(xs)\n",
        "  index = np.argmax(ys)\n",
        "  max_x = xs[index]\n",
        "  return max_x\n",
        "\n",
        "plt.axvline(np.mean(data), color='r', linestyle='--', label='Media')\n",
        "plt.axvline(np.median(data), color='g', linestyle='-', label='Mediana')\n",
        "plt.axvline(get_mode(data), color='b', linestyle='-', label='Moda')\n",
        "plt.legend()\n",
        "plt.show();"
      ]
    },
    {
      "cell_type": "markdown",
      "metadata": {
        "id": "rbBYs2Nz-NY6"
      },
      "source": [
        "## **Ley de grandes números**\n",
        "\n",
        "La ley débil de los grandes números establece que si $X_1, X_2, X_3, ...$ es una sucesión infinita de variables aleatorias independientes que tienen el mismo valor esperado $\\mu$ y varianza $\\sigma^2$, entonces el promedio $\\overline{X}_n=(X_1+\\cdots+X_n)/n$ converge en probabilidad a $μ$.\n",
        "\n",
        "\n"
      ]
    },
    {
      "cell_type": "markdown",
      "metadata": {
        "id": "MNG4g8GmB7BG"
      },
      "source": [
        "$$ {\\displaystyle \\lim _{n\\rightarrow \\infty }\\operatorname {P} \\left(\\left|{\\overline {X}}_{n}-\\mu \\right|<\\varepsilon \\right)=1.} $$"
      ]
    },
    {
      "cell_type": "code",
      "execution_count": null,
      "metadata": {
        "colab": {
          "base_uri": "https://localhost:8080/",
          "height": 295
        },
        "id": "4jU6sgID-S0r",
        "outputId": "d33a59ea-ea7c-4d59-fd59-a04ee09299f1"
      },
      "outputs": [
        {
          "data": {
            "image/png": "[encoded data removed]",
            "text/plain": [
              "<Figure size 432x288 with 1 Axes>"
            ]
          },
          "metadata": {
            "needs_background": "light",
            "tags": []
          },
          "output_type": "display_data"
        }
      ],
      "source": [
        "resultados = []\n",
        "for lanzamientos in range(1,10000):\n",
        "    lanzamientos = np.random.choice([1,2,3,4,5,6], lanzamientos) \n",
        "    dados = lanzamientos.mean()\n",
        "    resultados.append(dados)\n",
        "\n",
        "plt.plot(resultados)\n",
        "plt.title('Ley de grandes números')\n",
        "plt.axhline(3.5)\n",
        "plt.xlabel(\"Número de lanzamientos\")\n",
        "plt.ylabel(\"Frecuencia caras\")\n",
        "plt.show()"
      ]
    },
    {
      "cell_type": "markdown",
      "metadata": {
        "id": "B_44-8TQi48O"
      },
      "source": [
        "¿Qué pasa si tomamos de a dos dados?"
      ]
    },
    {
      "cell_type": "code",
      "execution_count": null,
      "metadata": {
        "colab": {
          "base_uri": "https://localhost:8080/"
        },
        "id": "84N9GXKc_xKP",
        "outputId": "90370318-920c-47ea-de32-97ea9ce3cb5f"
      },
      "outputs": [
        {
          "name": "stdout",
          "output_type": "stream",
          "text": [
            "(1, 1)\n",
            "(1, 2)\n",
            "(1, 3)\n",
            "(1, 4)\n",
            "(1, 5)\n",
            "(1, 6)\n",
            "(2, 1)\n",
            "(2, 2)\n",
            "(2, 3)\n",
            "(2, 4)\n",
            "(2, 5)\n",
            "(2, 6)\n",
            "(3, 1)\n",
            "(3, 2)\n",
            "(3, 3)\n",
            "(3, 4)\n",
            "(3, 5)\n",
            "(3, 6)\n",
            "(4, 1)\n",
            "(4, 2)\n",
            "(4, 3)\n",
            "(4, 4)\n",
            "(4, 5)\n",
            "(4, 6)\n",
            "(5, 1)\n",
            "(5, 2)\n",
            "(5, 3)\n",
            "(5, 4)\n",
            "(5, 5)\n",
            "(5, 6)\n",
            "(6, 1)\n",
            "(6, 2)\n",
            "(6, 3)\n",
            "(6, 4)\n",
            "(6, 5)\n",
            "(6, 6)\n"
          ]
        }
      ],
      "source": [
        "from itertools import product\n",
        "espacio = [roll for roll in product([1,2,3,4,5,6], repeat = 2)]\n",
        "print(*espacio, sep='\\n')\n",
        "totales = [sum(roll) for roll in espacio]"
      ]
    },
    {
      "cell_type": "markdown",
      "metadata": {
        "id": "x0-VMdF_kOGk"
      },
      "source": [
        "## **Teorema del Límite Central**\n",
        "\n",
        "El teorema del límite central o teorema central del límite indica que, en condiciones muy generales, si $S_n$ es la suma de $n$ variables aleatorias independientes, con media conocida y varianza no nula pero finita, entonces la función de distribución de $S_n$ «se aproxima bien» a una distribución normal\n"
      ]
    },
    {
      "cell_type": "code",
      "execution_count": null,
      "metadata": {
        "colab": {
          "base_uri": "https://localhost:8080/",
          "height": 295
        },
        "id": "iFI1qhHQ_s4Q",
        "outputId": "393c8825-7f24-4f15-c9e6-4b6461d22f49"
      },
      "outputs": [
        {
          "data": {
            "image/png": "[encoded data removed]",
            "text/plain": [
              "<Figure size 1440x288 with 2 Axes>"
            ]
          },
          "metadata": {
            "needs_background": "light",
            "tags": []
          },
          "output_type": "display_data"
        }
      ],
      "source": [
        "import numpy as np\n",
        "import seaborn as sns\n",
        "import matplotlib.pyplot as plt\n",
        "%matplotlib inline\n",
        "\n",
        "#Graficamos la distribución\n",
        "plt.figure(figsize = (20, 4))\n",
        "plt.subplot(121)\n",
        "plt.hist(totales, bins = 11)\n",
        "plt.title('Total, dos dados')\n",
        "plt.xlabel('Valores totales')\n",
        "plt.ylabel('Número de ocurrencias')\n",
        "plt.xticks(range(2, 12))\n",
        "plt.subplot(122)\n",
        "ax = sns.kdeplot(np.array(totales))\n",
        "ax.set(xlabel = 'Valores totales', ylabel = 'Número de ocurrencias', \n",
        "      title = 'Total, dos dados', xticks = range(2, 12),\n",
        "      xlim = (1, 13));"
      ]
    },
    {
      "cell_type": "code",
      "execution_count": null,
      "metadata": {
        "cellView": "form",
        "colab": {
          "base_uri": "https://localhost:8080/",
          "height": 483
        },
        "id": "MC0QRBrhkcce",
        "outputId": "452146d8-2fad-4ec7-d510-c6431003508b"
      },
      "outputs": [
        {
          "data": {
            "image/png": "[encoded data removed]",
            "text/plain": [
              "<Figure size 576x576 with 1 Axes>"
            ]
          },
          "metadata": {
            "needs_background": "light",
            "tags": []
          },
          "output_type": "display_data"
        }
      ],
      "source": [
        "#@title Distribución normal\n",
        "#@markdown y la \"regla empírica\"\n",
        "\n",
        "# https://www.kaggle.com/hamelg/python-for-data-22-probability-distributions\n",
        "\n",
        "import matplotlib.pyplot as plt\n",
        "import numpy as np\n",
        "from scipy import stats\n",
        "\n",
        "plt.rcParams[\"figure.figsize\"] = (8,8)\n",
        "                                  \n",
        "prob_under_minus1 = stats.norm.cdf(x= -1,  \n",
        "                                loc = 0,               \n",
        "                                scale= 1)     \n",
        "\n",
        "prob_over_1 = 1 - stats.norm.cdf(x= 1,  \n",
        "                                loc = 0,               \n",
        "                                scale= 1) \n",
        "\n",
        "between_prob = 1-(prob_under_minus1+prob_over_1)\n",
        "                                  \n",
        "plt.fill_between(x=np.arange(-4,-1,0.01), \n",
        "                 y1= stats.norm.pdf(np.arange(-4,-1,0.01)) ,\n",
        "                 facecolor='red',\n",
        "                 alpha=0.35)\n",
        "\n",
        "plt.fill_between(x=np.arange(1,4,0.01), \n",
        "                 y1= stats.norm.pdf(np.arange(1,4,0.01)) ,\n",
        "                 facecolor='red',\n",
        "                 alpha=0.35)\n",
        "\n",
        "plt.fill_between(x=np.arange(-1,1,0.01), \n",
        "                 y1= stats.norm.pdf(np.arange(-1,1,0.01)) ,\n",
        "                 facecolor='blue',\n",
        "                 alpha=0.35)\n",
        "\n",
        "plt.text(x=-1.8, y=0.03, s= round(prob_under_minus1,3))\n",
        "plt.text(x=-0.2, y=0.1, s= round(between_prob,3))\n",
        "plt.text(x=1.4, y=0.03, s= round(prob_over_1,3));"
      ]
    },
    {
      "cell_type": "markdown",
      "metadata": {
        "id": "tQcv9mcuArFA"
      },
      "source": [
        "## **Axiomas clásicos de la probabilidad**\n",
        "\n",
        "* **Probabilidad de un evento** - Número asignado a un evento\n",
        "  * Ejemplo (moneda): $Pr(A) = \\frac{1}{4}$\n",
        "\n",
        "* **Axiomas**:\n",
        "    1. $0 \\le Pr(A) \\leq 1$\n",
        "    2. $Pr(\\Omega) = 1 $\n",
        "    3. $Pr(A \\cup B) = Pr(A) + Pr(B) - P(A \\cap B)$ (si $A, B$ son independientes $P(A \\cap B) = 0$)"
      ]
    },
    {
      "cell_type": "markdown",
      "metadata": {
        "id": "rDLo283wAVWJ"
      },
      "source": [
        "---\n",
        "*¿Cuál es la probabilidad de sacar un número par **o** un número que sea múltiplo de 3?*\n",
        "\n",
        "* $S = \\{1, 2, 3, 4, 5, 6\\}$\n",
        "* $ P(A=par) = \\frac{3}{6} = 0.5$\n",
        "* $ P(B=\\textit{multiplo de 3}) = \\frac{2}{6} = \\frac{1}{3}$\n",
        "* $ P(A \\cap B) = \\frac{1}{6}$, ya que $ A \\cap B = \\{6\\}$\n",
        "* $\\rightarrow P(A \\cup B) = \\frac{3}{6} + \\frac{2}{6} - \\frac{1}{6} = \\frac{4}{6} = \\frac{2}{3} $"
      ]
    },
    {
      "cell_type": "code",
      "execution_count": null,
      "metadata": {
        "id": "JZNismiicw-n"
      },
      "outputs": [],
      "source": []
    },
    {
      "cell_type": "markdown",
      "metadata": {
        "id": "FU2ngW5MBoln"
      },
      "source": [
        "## **Definiciones de Estadística**\n",
        "\n",
        "---\n",
        "| Definición | Descripción | Tipos | Ejemplo  |\n",
        "| --- | --- | --- | --- |\n",
        "| **Población** |  Todos los valores posibles, el conjunto completo del que se extrae una muestra estadística. Por tanto, se puede decir que una población es una observación agregada de sujetos agrupados por una característica común. |  |  Un grupo completo de personas, objetos, eventos, visitas al hospital o mediciones. |\n",
        "| **Muestra** |Una porción de la población, una selección aleatoria de miembros de una población. Es un grupo más pequeño extraído de la población que tiene las características de toda la población. Las observaciones y conclusiones extraídas de los datos de la muestra se atribuyen a la población. | | 1.000 participantes de un total de 200.000 participantes de la prueba |\n",
        "| **Inferencia estadística** | Generalización de una muestra a una población con un grado de certeza calculado | 1. Prueba de hipótesis (hoy) <br> 2. Estimación (tutorial anterior) |  |\n",
        "| **Parámetro** | Una característica de la población, cualquier cantidad numérica que caracteriza a una población determinada o algún aspecto de ella. Esto significa que el parámetro nos dice algo sobre toda la población. | | Media poblacional $\\mu$ |\n",
        "| **Estadístico** | Calculado a partir de los datos de la muestra, una única medida de algún atributo de una muestra. Se calcula aplicando una función (algoritmo estadístico) a los valores de los elementos de la muestra, que se conocen en conjunto como un conjunto de datos. | | Promedio de la muestra $\\overline{X}$ |"
      ]
    },
    {
      "cell_type": "markdown",
      "metadata": {
        "id": "chBP9f4JBv1f"
      },
      "source": [
        "---\n",
        "1. **Hipótesis nula o alternativa** -  Formule la hipótesis nula $ H_0 $ (que las observaciones son el resultado del azar puro) y la hipótesis alternativa $ H_a $ (que las observaciones muestran un efecto real combinado con un componente de variación aleatoria).\n",
        "\n",
        "2. **Test estadístico** - Identifique un estadístico de prueba que pueda usarse para evaluar la verdad de la hipótesis nula. Es un valor calculado a partir de datos de muestra. La estadística de prueba se utiliza para evaluar la solidez de la evidencia en apoyo de una hipótesis nula.\n",
        "\n",
        "3. **P-valor & Interpetación** - Calcule el valor P, que es la probabilidad de que se obtenga un estadístico de prueba, al menos tan significativo como el observado, suponiendo que la hipótesis nula sea cierta. Cuanto menor sea el valor P, más fuerte será la evidencia **en contra** de la hipótesis nula.\n",
        "\n",
        "4. **Nivel de significancia** - Compare el valor p con un valor de significancia aceptable $ \\ alpha $ (a veces llamado valor $ \\ alpha $, un umbral de probabilidad por debajo del cual se rechazará la hipótesis nula. Los valores comunes son 5% y 1%). Si $ p \\ leq \\ alpha $ (el efecto observado es estadísticamente significativo), la hipótesis nula se descarta y la hipótesis alternativa es válida."
      ]
    },
    {
      "cell_type": "markdown",
      "metadata": {
        "id": "us_BN-TEWjon"
      },
      "source": [
        "## **Medidas de dispersión**"
      ]
    },
    {
      "cell_type": "markdown",
      "metadata": {
        "id": "2jGw249q75w6"
      },
      "source": [
        "### Rango\n",
        "Valor numérico que indica la diferencia entre el valor máximo y el mínimo de una población o muestra estadística.\n",
        "\n",
        "$$ Max - Min $$\n"
      ]
    },
    {
      "cell_type": "code",
      "execution_count": null,
      "metadata": {
        "id": "OnYEt8dD4vRr"
      },
      "outputs": [],
      "source": [
        "tiempos_de_reaccion = [3.2, 4.3, 1, 4.5, 6, 3, 10]"
      ]
    },
    {
      "cell_type": "code",
      "execution_count": null,
      "metadata": {
        "colab": {
          "base_uri": "https://localhost:8080/"
        },
        "id": "zO20KWfvca9q",
        "outputId": "3e189a8b-1cef-45d9-e1ae-94f562b4bb89"
      },
      "outputs": [
        {
          "data": {
            "text/plain": [
              "9"
            ]
          },
          "execution_count": 89,
          "metadata": {
            "tags": []
          },
          "output_type": "execute_result"
        }
      ],
      "source": [
        "def rango(lista):\n",
        "  return max(lista) - min(lista)\n",
        "\n",
        "rango(tiempos_de_reaccion)"
      ]
    },
    {
      "cell_type": "markdown",
      "metadata": {
        "id": "2fMfVN_J7w_q"
      },
      "source": [
        "### Varianza\n",
        "\n",
        "La varianza es una medida de la dispersión de una distribución. La varianza de una variable aleatoria  representa *cuánto se espera* que la variable aleatoria $x$ varíe con respecto al promedio ($\\mu$).\n",
        "\n",
        "\n",
        "$$\\sigma _{n}^{2}={\\frac {1}{n - 1}}\\sum _{i=1}^{n}\\left(x_{i}-{\\overline {x}}\\right)^{2}$$"
      ]
    },
    {
      "cell_type": "code",
      "execution_count": null,
      "metadata": {
        "colab": {
          "base_uri": "https://localhost:8080/"
        },
        "id": "bTSpULK_5rSQ",
        "outputId": "29906db0-079a-4404-cb5d-93fabdbeefde"
      },
      "outputs": [
        {
          "data": {
            "text/plain": [
              "2.9084908490849086"
            ]
          },
          "execution_count": 92,
          "metadata": {
            "tags": []
          },
          "output_type": "execute_result"
        }
      ],
      "source": [
        "promedio = 3.5\n",
        "total = 0\n",
        "for x in resultados:\n",
        "  v = (x - promedio) ** 2\n",
        "  total += v\n",
        "\n",
        "total / (len(resultados) - 1)"
      ]
    },
    {
      "cell_type": "markdown",
      "metadata": {
        "id": "XkqlHtFt7yep"
      },
      "source": [
        "### Desvio Estandar\n",
        "Medida que se utiliza para cuantificar la variación o la dispersión de un conjunto de datos numéricos\n",
        "\n",
        "$${\\sigma={\\sqrt {{\\frac {1}{n}}\\sum _{i=1}^{n}\\left(x_{i}-{\\overline {x}}\\right)^{2}}}}$$ "
      ]
    },
    {
      "cell_type": "code",
      "execution_count": null,
      "metadata": {
        "id": "XLHjfqPQczta"
      },
      "outputs": [],
      "source": [
        "def sd(lista):\n",
        "  pass"
      ]
    },
    {
      "cell_type": "markdown",
      "metadata": {
        "id": "WLVBWx4jHW0Q"
      },
      "source": [
        "### Covarianza\n",
        "Valor que indica el grado de variación conjunta de dos variables aleatorias respecto a sus medias.\n",
        "\n",
        "$${\\displaystyle s_{xy}={1 \\over n}\\sum _{i=1}^{n}{(x_{i}-{\\overline {x}})(y_{i}-{\\overline {y}})}}$$\n",
        "\n"
      ]
    },
    {
      "cell_type": "markdown",
      "metadata": {
        "id": "MxhzrSLtHZNn"
      },
      "source": [
        "### Correlación\n",
        "\n",
        "El coeficiente de correlación de Pearson indica la relación entre dos variables, independientemente de sus unidades ya que esta normalizado según las desviaciónes de las variables. El r va desde -1 hasta 1. Qué significan estos valores?\n",
        "\n",
        "$${r_{xy}={\\frac {\\sum (x_{i} - {\\bar {x})(y_{i} - {\\bar {y})}}}{(n-1)s_{x}s_{y}}}}$$"
      ]
    },
    {
      "cell_type": "code",
      "execution_count": null,
      "metadata": {
        "cellView": "form",
        "colab": {
          "base_uri": "https://localhost:8080/",
          "height": 528
        },
        "id": "OcyAQhbeZ_UF",
        "outputId": "f4ef04c8-2472-4b2c-bfa6-881d2fe3c627"
      },
      "outputs": [
        {
          "data": {
            "image/png": "[encoded data removed]",
            "text/plain": [
              "<Figure size 1440x576 with 12 Axes>"
            ]
          },
          "metadata": {
            "needs_background": "light",
            "tags": []
          },
          "output_type": "display_data"
        }
      ],
      "source": [
        "#@title Distintos grados de correlación\n",
        "\n",
        "from scipy.stats import pearsonr, spearmanr\n",
        "\n",
        "seed = 13\n",
        "rand = np.random.RandomState(seed)\n",
        "\n",
        "x = rand.uniform(0,1,100)\n",
        "x = np.vstack((x,x*2+1))\n",
        "x = np.vstack((x,-x[0,]*2+1))\n",
        "x = np.vstack((x,rand.normal(1,3,100)))\n",
        "\n",
        "def correlate(matrix, corr=pearsonr):\n",
        "    rows, cols = matrix.shape[0], matrix.shape[1]\n",
        "    r = np.ones(shape=(rows, rows))\n",
        "    p = np.ones(shape=(rows, rows))\n",
        "    for i in range(rows):\n",
        "        for j in range(i+1, rows):\n",
        "            r_, p_ = corr(matrix[i], matrix[j])\n",
        "            r[i, j] = r[j, i] = r_\n",
        "            p[i, j] = p[j, i] = p_\n",
        "            \n",
        "    return r, p\n",
        "\n",
        "fig, ax = plt.subplots(nrows=2, ncols=6, figsize=(20, 8))\n",
        "\n",
        "for e, i in zip([0.05,0.1,0.2,0.8,2,3], [0,1,2,3,4,5]):\n",
        "\n",
        "    x_e = x+rand.normal(0,e,x.shape)\n",
        "\n",
        "    r, p = correlate(x_e)\n",
        "    \n",
        "    # Plot column wise. Positive correlation in row 0 and negative in row 1\n",
        "    ax[0,i].scatter(x_e[0,], x_e[1,])\n",
        "    ax[1,i].scatter(x_e[0,], x_e[2,])\n",
        "    ax[0,i].title.set_text('Correlación = ' + \"{:.2f}\".format(r[0,1])\n",
        "                        + '\\n p = ' + \"{:.4f}\".format(p[0,1]) )\n",
        "    ax[1,i].title.set_text('Correlación = ' + \"{:.2f}\".format(r[0,2])\n",
        "                        + '\\n p = ' + \"{:.4f}\".format(p[0,2]))\n",
        "    ax[0,i].set(xlabel='x',ylabel='y')    \n",
        "    ax[1,i].set(xlabel='x',ylabel='y')\n",
        "    \n",
        "fig.subplots_adjust(wspace=0.3,hspace=0.4)    \n",
        "plt.show()"
      ]
    },
    {
      "cell_type": "code",
      "execution_count": null,
      "metadata": {
        "cellView": "form",
        "colab": {
          "base_uri": "https://localhost:8080/",
          "height": 262
        },
        "id": "PsKHjJ9Xb8vD",
        "outputId": "b6da4f6d-ee9b-494b-bdf4-3855845359ab"
      },
      "outputs": [
        {
          "data": {
            "image/png": "[encoded data removed]",
            "text/plain": [
              "<Figure size 1152x216 with 3 Axes>"
            ]
          },
          "metadata": {
            "needs_background": "light",
            "tags": []
          },
          "output_type": "display_data"
        }
      ],
      "source": [
        "#@title Caso No lineal\n",
        "\n",
        "x_nonlinear = np.linspace(-10,10,100)\n",
        "x_nonlinear = np.vstack((x_nonlinear,x_nonlinear*x_nonlinear))\n",
        "x_nonlinear = np.vstack((x_nonlinear,np.log(x_nonlinear[0,]**2+1)))\n",
        "x_nonlinear = np.vstack((x_nonlinear,np.exp(x_nonlinear[0,])))\n",
        "\n",
        "r,p = correlate(x_nonlinear)\n",
        "\n",
        "fig, ax = plt.subplots(nrows=1, ncols=3, figsize=(16, 3))\n",
        "title = ['$y=x^2$', '$y=\\log(x^2+1)$','$y=\\exp(x)$']\n",
        "for i in [0,1,2]:\n",
        "    ax[i].scatter(x_nonlinear[0,],x_nonlinear[1+i,])\n",
        "    ax[i].title.set_text('Correlación = ' + \"{:.2f}\".format(r[0,2])\n",
        "                        + '\\n p = ' + \"{:.4f}\".format(p[0,2]))\n",
        "    \n",
        "    ax[i].set(xlabel=title[i])\n",
        "\n",
        "fig.subplots_adjust(wspace=.4)    \n",
        "plt.show()"
      ]
    },
    {
      "cell_type": "markdown",
      "metadata": {
        "id": "tIPBq-XweaYC"
      },
      "source": [
        "# MyPersonality"
      ]
    },
    {
      "cell_type": "markdown",
      "metadata": {
        "id": "1Wrsnq91dug0"
      },
      "source": [
        "La prueba Big5 (Costa y Mac Crae 1985, Goldberg et al. 2006) es una taxonomía o clasificación de rasgos de personalidad que analiza la composición de cinco dimensiones de personalidad en su sentido más amplio. Esta disertación se publicó en el Psychological Review, 41, 1-32. Los cinco factores son:\n",
        "\n",
        "- Apertura a la experiencia (inventivo / curioso vs. consistente / cauteloso) O  \n",
        "- Escrupulosidad (eficiente / organizado vs. extravagante / descuidado) C  \n",
        "- Extraversión (sociable / enérgico vs. solitario / reservado) E  \n",
        "- Amabilidad (amigable / compasivo vs. desafiante / insensible) A  \n",
        "- Neuroticismo (susceptible / nervioso vs. resistente / seguro) N"
      ]
    },
    {
      "cell_type": "code",
      "execution_count": null,
      "metadata": {
        "id": "2LAYxcZGeYdN"
      },
      "outputs": [],
      "source": [
        "import pandas as pd\n",
        "import plotly.express as px\n",
        "from scipy.stats import pearsonr"
      ]
    },
    {
      "cell_type": "code",
      "execution_count": null,
      "metadata": {
        "id": "jlo9DZIydK0G"
      },
      "outputs": [],
      "source": [
        "df = pd.read_csv('https://unket.s3-sa-east-1.amazonaws.com/data/mypersonality.csv')"
      ]
    },
    {
      "cell_type": "code",
      "execution_count": null,
      "metadata": {
        "id": "duGAkCpE9Bux"
      },
      "outputs": [],
      "source": [
        "df = df.drop_duplicates(subset='#AUTHID')"
      ]
    },
    {
      "cell_type": "code",
      "execution_count": null,
      "metadata": {
        "colab": {
          "base_uri": "https://localhost:8080/",
          "height": 501
        },
        "id": "3Rk7okfReQEC",
        "outputId": "22c10c9b-84d8-4023-e8b8-e78546981430"
      },
      "outputs": [
        {
          "data": {
            "text/html": [
              "<div>\n",
              "<style scoped>\n",
              "    .dataframe tbody tr th:only-of-type {\n",
              "        vertical-align: middle;\n",
              "    }\n",
              "\n",
              "    .dataframe tbody tr th {\n",
              "        vertical-align: top;\n",
              "    }\n",
              "\n",
              "    .dataframe thead th {\n",
              "        text-align: right;\n",
              "    }\n",
              "</style>\n",
              "<table border=\"1\" class=\"dataframe\">\n",
              "  <thead>\n",
              "    <tr style=\"text-align: right;\">\n",
              "      <th></th>\n",
              "      <th>#AUTHID</th>\n",
              "      <th>STATUS</th>\n",
              "      <th>sEXT</th>\n",
              "      <th>sNEU</th>\n",
              "      <th>sAGR</th>\n",
              "      <th>sCON</th>\n",
              "      <th>sOPN</th>\n",
              "      <th>cEXT</th>\n",
              "      <th>cNEU</th>\n",
              "      <th>cAGR</th>\n",
              "      <th>cCON</th>\n",
              "      <th>cOPN</th>\n",
              "      <th>DATE</th>\n",
              "      <th>NETWORKSIZE</th>\n",
              "      <th>BETWEENNESS</th>\n",
              "      <th>NBETWEENNESS</th>\n",
              "      <th>DENSITY</th>\n",
              "      <th>BROKERAGE</th>\n",
              "      <th>NBROKERAGE</th>\n",
              "      <th>TRANSITIVITY</th>\n",
              "    </tr>\n",
              "  </thead>\n",
              "  <tbody>\n",
              "    <tr>\n",
              "      <th>0</th>\n",
              "      <td>b7b7764cfa1c523e4e93ab2a79a946c4</td>\n",
              "      <td>likes the sound of thunder.</td>\n",
              "      <td>2.65</td>\n",
              "      <td>3.00</td>\n",
              "      <td>3.15</td>\n",
              "      <td>3.25</td>\n",
              "      <td>4.40</td>\n",
              "      <td>n</td>\n",
              "      <td>y</td>\n",
              "      <td>n</td>\n",
              "      <td>n</td>\n",
              "      <td>y</td>\n",
              "      <td>06/19/09 03:21 PM</td>\n",
              "      <td>180.0</td>\n",
              "      <td>14861.6</td>\n",
              "      <td>93.29</td>\n",
              "      <td>0.03</td>\n",
              "      <td>15661.0</td>\n",
              "      <td>0.49</td>\n",
              "      <td>0.10</td>\n",
              "    </tr>\n",
              "    <tr>\n",
              "      <th>102</th>\n",
              "      <td>318bf822d4f2bd3920367560218619c0</td>\n",
              "      <td>has bed bugs..... ewwwww!</td>\n",
              "      <td>4.50</td>\n",
              "      <td>4.00</td>\n",
              "      <td>3.00</td>\n",
              "      <td>4.50</td>\n",
              "      <td>3.75</td>\n",
              "      <td>y</td>\n",
              "      <td>y</td>\n",
              "      <td>n</td>\n",
              "      <td>y</td>\n",
              "      <td>n</td>\n",
              "      <td>06/27/09 11:21 PM</td>\n",
              "      <td>318.0</td>\n",
              "      <td>49024.8</td>\n",
              "      <td>97.88</td>\n",
              "      <td>0.02</td>\n",
              "      <td>49584.0</td>\n",
              "      <td>0.49</td>\n",
              "      <td>0.06</td>\n",
              "    </tr>\n",
              "    <tr>\n",
              "      <th>171</th>\n",
              "      <td>ecbddbfe00e0f83cfdb802a7186061c7</td>\n",
              "      <td>is stuck on Band-Aid brand, cuz Band-Aid's stu...</td>\n",
              "      <td>4.30</td>\n",
              "      <td>2.15</td>\n",
              "      <td>3.60</td>\n",
              "      <td>3.30</td>\n",
              "      <td>4.10</td>\n",
              "      <td>y</td>\n",
              "      <td>n</td>\n",
              "      <td>y</td>\n",
              "      <td>n</td>\n",
              "      <td>y</td>\n",
              "      <td>06/28/09 05:03 AM</td>\n",
              "      <td>739.0</td>\n",
              "      <td>267574.0</td>\n",
              "      <td>98.39</td>\n",
              "      <td>0.01</td>\n",
              "      <td>270029.0</td>\n",
              "      <td>0.50</td>\n",
              "      <td>0.07</td>\n",
              "    </tr>\n",
              "    <tr>\n",
              "      <th>236</th>\n",
              "      <td>db39f7b2aad360b1033ec1f8fcd57f9c</td>\n",
              "      <td>Back from vacation and tired</td>\n",
              "      <td>4.65</td>\n",
              "      <td>3.20</td>\n",
              "      <td>3.05</td>\n",
              "      <td>3.65</td>\n",
              "      <td>4.75</td>\n",
              "      <td>y</td>\n",
              "      <td>y</td>\n",
              "      <td>n</td>\n",
              "      <td>y</td>\n",
              "      <td>y</td>\n",
              "      <td>07/15/09 10:59 PM</td>\n",
              "      <td>102.0</td>\n",
              "      <td>4359.8</td>\n",
              "      <td>86.33</td>\n",
              "      <td>0.09</td>\n",
              "      <td>4668.0</td>\n",
              "      <td>0.46</td>\n",
              "      <td>0.36</td>\n",
              "    </tr>\n",
              "    <tr>\n",
              "      <th>246</th>\n",
              "      <td>4d035bd3fd8d9595d15cea9e388964be</td>\n",
              "      <td>had a great day at church...</td>\n",
              "      <td>3.70</td>\n",
              "      <td>2.90</td>\n",
              "      <td>3.40</td>\n",
              "      <td>3.35</td>\n",
              "      <td>4.05</td>\n",
              "      <td>y</td>\n",
              "      <td>y</td>\n",
              "      <td>n</td>\n",
              "      <td>n</td>\n",
              "      <td>y</td>\n",
              "      <td>07/19/09 05:40 PM</td>\n",
              "      <td>57.0</td>\n",
              "      <td>1509.5</td>\n",
              "      <td>98.02</td>\n",
              "      <td>0.05</td>\n",
              "      <td>1522.0</td>\n",
              "      <td>0.49</td>\n",
              "      <td>0.03</td>\n",
              "    </tr>\n",
              "  </tbody>\n",
              "</table>\n",
              "</div>"
            ],
            "text/plain": [
              "                              #AUTHID  ... TRANSITIVITY\n",
              "0    b7b7764cfa1c523e4e93ab2a79a946c4  ...         0.10\n",
              "102  318bf822d4f2bd3920367560218619c0  ...         0.06\n",
              "171  ecbddbfe00e0f83cfdb802a7186061c7  ...         0.07\n",
              "236  db39f7b2aad360b1033ec1f8fcd57f9c  ...         0.36\n",
              "246  4d035bd3fd8d9595d15cea9e388964be  ...         0.03\n",
              "\n",
              "[5 rows x 20 columns]"
            ]
          },
          "execution_count": 129,
          "metadata": {
            "tags": []
          },
          "output_type": "execute_result"
        }
      ],
      "source": [
        "df.head()"
      ]
    },
    {
      "cell_type": "code",
      "execution_count": null,
      "metadata": {
        "colab": {
          "base_uri": "https://localhost:8080/",
          "height": 279
        },
        "id": "JcoBI31h93dY",
        "outputId": "65809d17-cfa1-4c95-d21d-3a4703591c00"
      },
      "outputs": [
        {
          "data": {
            "image/png": "[encoded data removed]",
            "text/plain": [
              "<Figure size 432x288 with 1 Axes>"
            ]
          },
          "metadata": {
            "needs_background": "light",
            "tags": []
          },
          "output_type": "display_data"
        }
      ],
      "source": [
        "sns.kdeplot(df['NETWORKSIZE']);"
      ]
    },
    {
      "cell_type": "code",
      "execution_count": null,
      "metadata": {
        "colab": {
          "base_uri": "https://localhost:8080/"
        },
        "id": "tT6QDlnl93gP",
        "outputId": "ebc503fa-6c4a-4972-ca39-d389a150a953"
      },
      "outputs": [
        {
          "data": {
            "text/plain": [
              "315.0"
            ]
          },
          "execution_count": 106,
          "metadata": {
            "tags": []
          },
          "output_type": "execute_result"
        }
      ],
      "source": [
        "np.median(cantidades_de_amigos)"
      ]
    },
    {
      "cell_type": "code",
      "execution_count": null,
      "metadata": {
        "colab": {
          "base_uri": "https://localhost:8080/"
        },
        "id": "td1gF3Ekdpnl",
        "outputId": "69b9030d-ed14-4c09-b67b-1d6ec4b8eaf4"
      },
      "outputs": [
        {
          "data": {
            "text/plain": [
              "(0.3621394116038834, 3.664654662842724e-09)"
            ]
          },
          "execution_count": 22,
          "metadata": {
            "tags": []
          },
          "output_type": "execute_result"
        }
      ],
      "source": [
        "pearsonr(df['sEXT'], df['NETWORKSIZE'])"
      ]
    },
    {
      "cell_type": "code",
      "execution_count": null,
      "metadata": {
        "colab": {
          "base_uri": "https://localhost:8080/",
          "height": 35
        },
        "id": "u8kQDLYK93is",
        "outputId": "f5819b8c-4399-421c-c129-f262c7e8d54d"
      },
      "outputs": [
        {
          "data": {
            "application/vnd.google.colaboratory.intrinsic+json": {
              "type": "string"
            },
            "text/plain": [
              "'0.0000000037'"
            ]
          },
          "execution_count": 114,
          "metadata": {
            "tags": []
          },
          "output_type": "execute_result"
        }
      ],
      "source": [
        "f'{3.664654662842724e-09:.10f}'"
      ]
    },
    {
      "cell_type": "code",
      "execution_count": null,
      "metadata": {
        "colab": {
          "base_uri": "https://localhost:8080/"
        },
        "id": "sBOkIi5udriq",
        "outputId": "b30baa86-a3c7-46d1-de72-02eac6c0555a"
      },
      "outputs": [
        {
          "data": {
            "text/plain": [
              "(-0.18020241658633415, 0.004257725510543998)"
            ]
          },
          "execution_count": 23,
          "metadata": {
            "tags": []
          },
          "output_type": "execute_result"
        }
      ],
      "source": [
        "pearsonr(df['sNEU'], df['NETWORKSIZE'])"
      ]
    },
    {
      "cell_type": "code",
      "execution_count": null,
      "metadata": {
        "colab": {
          "base_uri": "https://localhost:8080/"
        },
        "id": "JqN5qpopek3H",
        "outputId": "dd539f54-d079-4801-dff0-f2eaf3c89ae5"
      },
      "outputs": [
        {
          "data": {
            "text/plain": [
              "(0.11133128697465432, 0.07892697855400191)"
            ]
          },
          "execution_count": 24,
          "metadata": {
            "tags": []
          },
          "output_type": "execute_result"
        }
      ],
      "source": [
        "pearsonr(df['sAGR'], df['NETWORKSIZE'])"
      ]
    },
    {
      "cell_type": "code",
      "execution_count": null,
      "metadata": {
        "colab": {
          "base_uri": "https://localhost:8080/",
          "height": 542
        },
        "id": "Di0XGO6Kdme8",
        "outputId": "5d9ead7f-833e-447f-b6a6-7b920122bd9d"
      },
      "outputs": [
        {
          "data": {
            "text/html": [
              "<html>\n",
              "<head><meta charset=\"utf-8\" /></head>\n",
              "<body>\n",
              "    <div>\n",
              "            <script src=\"https://cdnjs.cloudflare.com/ajax/libs/mathjax/2.7.5/MathJax.js?config=TeX-AMS-MML_SVG\"></script><script type=\"text/javascript\">if (window.MathJax) {MathJax.Hub.Config({SVG: {font: \"STIX-Web\"}});}</script>\n",
              "                <script type=\"text/javascript\">window.PlotlyConfig = {MathJaxConfig: 'local'};</script>\n",
              "        <script src=\"https://cdn.plot.ly/plotly-latest.min.js\"></script>    \n",
              "            <div id=\"b24255be-ec7a-4b2c-afa7-39d8ab887a76\" class=\"plotly-graph-div\" style=\"height:525px; width:100%;\"></div>\n",
              "            <script type=\"text/javascript\">\n",
              "                \n",
              "                    window.PLOTLYENV=window.PLOTLYENV || {};\n",
              "                    \n",
              "                if (document.getElementById(\"b24255be-ec7a-4b2c-afa7-39d8ab887a76\")) {\n",
              "                    Plotly.newPlot(\n",
              "                        'b24255be-ec7a-4b2c-afa7-39d8ab887a76',\n",
              "                        [{\"hoverlabel\": {\"namelength\": 0}, \"hovertemplate\": \"sEXT=%{x}<br>NETWORKSIZE=%{y}\", \"legendgroup\": \"\", \"marker\": {\"color\": \"#636efa\", \"symbol\": \"circle\"}, \"mode\": \"markers\", \"name\": \"\", \"showlegend\": false, \"type\": \"scatter\", \"x\": [2.65, 4.5, 4.3, 4.65, 3.7, 3.45, 3.15, 4.15, 3.65, 3.75, 3.35, 1.5, 3.25, 1.8, 3.55, 2.6, 3.35, 1.35, 3.15, 2.45, 4.1, 2.65, 4.3, 2.3, 4.5, 2.8, 2.45, 2.5, 2.9, 4.33, 2.55, 2.45, 4.2, 1.75, 2.0, 4.0, 3.4, 2.75, 4.0, 3.75, 2.05, 3.7, 3.6, 4.7, 4.55, 2.1, 4.2, 3.75, 4.5, 3.7, 3.6, 1.8, 1.8, 5.0, 3.5, 1.75, 4.0, 1.55, 2.7, 2.95, 3.7, 4.45, 3.0, 2.65, 3.25, 2.71, 4.25, 3.4, 3.8, 2.75, 2.7, 3.25, 2.7, 3.5, 3.3, 2.25, 3.75, 3.3, 2.1, 3.75, 2.9, 2.8, 3.5, 3.75, 3.3, 2.75, 4.5, 3.0, 3.55, 4.0, 4.75, 4.25, 2.0, 2.5, 3.7, 2.75, 4.75, 3.2, 2.75, 3.84, 2.35, 4.5, 3.65, 3.0, 5.0, 4.13, 3.2, 4.5, 2.95, 2.7, 3.0, 3.5, 3.1, 3.6, 3.0, 4.33, 4.5, 4.15, 3.25, 2.45, 3.75, 4.25, 4.15, 1.95, 4.0, 4.75, 3.8, 2.63, 4.5, 2.4, 4.5, 4.0, 1.6, 4.2, 3.0, 2.9, 1.75, 3.0, 3.05, 2.6, 2.9, 2.38, 3.25, 3.65, 2.55, 2.75, 3.0, 2.9, 3.2, 2.5, 4.6, 4.5, 4.65, 3.25, 4.0, 3.35, 2.55, 2.15, 2.25, 2.65, 3.25, 3.45, 3.5, 4.6, 1.33, 2.25, 3.25, 4.5, 4.0, 3.4, 3.65, 3.0, 4.6, 3.7, 4.75, 2.35, 3.4, 1.75, 3.45, 3.4, 3.4, 4.05, 4.55, 2.5, 1.9, 3.05, 3.5, 3.84, 4.5, 2.35, 3.45, 4.35, 3.25, 4.95, 3.35, 2.4, 1.7, 2.45, 2.75, 4.05, 3.4, 3.9, 4.5, 3.65, 3.68, 4.35, 2.6, 3.13, 2.85, 3.6, 2.85, 4.75, 2.25, 2.85, 3.4, 2.05, 4.38, 3.55, 3.5, 4.05, 1.9, 1.95, 2.15, 3.3, 2.35, 3.17, 3.6, 3.25, 4.0, 3.3, 2.9, 3.5, 2.4, 4.25, 2.8, 2.2, 1.85, 4.25, 2.75, 4.75, 3.2, 2.75, 4.75, 3.25, 2.45, 3.7, 2.15, 4.05, 1.4, 4.25], \"xaxis\": \"x\", \"y\": [180.0, 318.0, 739.0, 102.0, 57.0, 122.0, 75.0, 950.0, 475.0, 251.0, 789.0, 223.0, 671.0, 89.0, 379.0, 139.0, 431.0, 99.0, 255.0, 130.0, 947.0, 446.0, 494.0, 297.0, 535.0, 340.0, 285.0, 356.0, 222.0, 145.0, 145.0, 633.0, 332.0, 50.0, 628.0, 89.0, 1225.0, 731.0, 899.0, 376.0, 322.0, 385.0, 644.0, 457.0, 254.0, 307.0, 294.0, 289.0, 369.0, 1264.0, 290.0, 198.0, 171.0, 326.0, 241.0, 177.0, 464.0, 265.0, 102.0, 802.0, 216.0, 315.0, 1596.0, 245.0, 146.0, 731.0, 317.0, 209.0, 58.0, 270.0, 135.0, 335.0, 312.0, 306.0, 1460.0, 300.0, 775.0, 381.0, 573.0, 332.0, 354.0, 463.0, 256.0, 1350.0, 196.0, 258.0, 606.0, 134.0, 77.0, 959.0, 699.0, 900.0, 721.0, 239.0, 29.0, 160.0, 289.0, 222.0, 332.0, 254.0, 115.0, 676.0, 112.0, 431.0, 855.0, 694.0, 188.0, 822.0, 689.0, 177.0, 315.0, 562.0, 758.0, 804.0, 493.0, 654.0, 845.0, 714.0, 549.0, 1560.0, 278.0, 298.0, 298.0, 686.0, 631.0, 1091.0, 622.0, 267.0, 1151.0, 313.0, 965.0, 241.0, 159.0, 907.0, 459.0, 72.0, 91.0, 512.0, 144.0, 126.0, 414.0, 82.0, 169.0, 41.0, 81.0, 440.0, 77.0, 24.0, 565.0, 159.0, 775.0, 826.0, 175.0, 486.0, 302.0, 322.0, 436.0, 127.0, 1098.0, 313.0, 457.0, 95.0, 243.0, 1118.0, 85.0, 361.0, 216.0, 962.0, 559.0, 238.0, 138.0, 236.0, 1071.0, 187.0, 477.0, 361.0, 497.0, 99.0, 831.0, 278.0, 374.0, 46.0, 405.0, 381.0, 56.0, 367.0, 139.0, 584.0, 1043.0, 457.0, 695.0, 40.0, 277.0, 378.0, 144.0, 167.0, 197.0, 119.0, 262.0, 563.0, 266.0, 1267.0, 288.0, 322.0, 419.0, 595.0, 294.0, 333.0, 194.0, 174.0, 176.0, 1323.0, 38.0, 175.0, 274.0, 134.0, 622.0, 257.0, 413.0, 1226.0, 141.0, 415.0, 84.0, 253.0, 213.0, 343.0, 295.0, 443.0, 329.0, 714.0, 478.0, 61.0, 166.0, 955.0, 436.0, 94.0, 542.0, 321.0, 70.0, 447.0, 149.0, 161.0, 325.0, 231.0, 65.0, 451.0, 36.0, 83.0, 154.0, 539.0], \"yaxis\": \"y\"}, {\"hoverlabel\": {\"namelength\": 0}, \"hovertemplate\": \"<b>OLS trendline</b><br>NETWORKSIZE = 133.121422 * sEXT + -30.239697<br>R<sup>2</sup>=0.131145<br><br>sEXT=%{x}<br>NETWORKSIZE=%{y} <b>(trend)</b>\", \"legendgroup\": \"\", \"line\": {\"color\": \"red\"}, \"marker\": {\"color\": \"#636efa\", \"symbol\": \"circle\"}, \"mode\": \"lines\", \"name\": \"\", \"showlegend\": false, \"type\": \"scatter\", \"x\": [1.33, 1.35, 1.4, 1.5, 1.55, 1.6, 1.7, 1.75, 1.75, 1.75, 1.75, 1.8, 1.8, 1.8, 1.85, 1.9, 1.9, 1.95, 1.95, 2.0, 2.0, 2.05, 2.05, 2.1, 2.1, 2.15, 2.15, 2.15, 2.2, 2.25, 2.25, 2.25, 2.25, 2.3, 2.35, 2.35, 2.35, 2.35, 2.38, 2.4, 2.4, 2.4, 2.45, 2.45, 2.45, 2.45, 2.45, 2.45, 2.5, 2.5, 2.5, 2.5, 2.55, 2.55, 2.55, 2.6, 2.6, 2.6, 2.63, 2.65, 2.65, 2.65, 2.65, 2.7, 2.7, 2.7, 2.7, 2.71, 2.75, 2.75, 2.75, 2.75, 2.75, 2.75, 2.75, 2.75, 2.75, 2.8, 2.8, 2.8, 2.85, 2.85, 2.85, 2.9, 2.9, 2.9, 2.9, 2.9, 2.9, 2.95, 2.95, 3.0, 3.0, 3.0, 3.0, 3.0, 3.0, 3.0, 3.0, 3.0, 3.05, 3.05, 3.1, 3.13, 3.15, 3.15, 3.17, 3.2, 3.2, 3.2, 3.2, 3.25, 3.25, 3.25, 3.25, 3.25, 3.25, 3.25, 3.25, 3.25, 3.25, 3.25, 3.3, 3.3, 3.3, 3.3, 3.3, 3.35, 3.35, 3.35, 3.35, 3.4, 3.4, 3.4, 3.4, 3.4, 3.4, 3.4, 3.4, 3.45, 3.45, 3.45, 3.45, 3.5, 3.5, 3.5, 3.5, 3.5, 3.5, 3.5, 3.5, 3.55, 3.55, 3.55, 3.6, 3.6, 3.6, 3.6, 3.6, 3.65, 3.65, 3.65, 3.65, 3.65, 3.68, 3.7, 3.7, 3.7, 3.7, 3.7, 3.7, 3.7, 3.75, 3.75, 3.75, 3.75, 3.75, 3.75, 3.75, 3.8, 3.8, 3.84, 3.84, 3.9, 4.0, 4.0, 4.0, 4.0, 4.0, 4.0, 4.0, 4.0, 4.0, 4.05, 4.05, 4.05, 4.05, 4.1, 4.13, 4.15, 4.15, 4.15, 4.2, 4.2, 4.2, 4.25, 4.25, 4.25, 4.25, 4.25, 4.25, 4.3, 4.3, 4.33, 4.33, 4.35, 4.35, 4.38, 4.45, 4.5, 4.5, 4.5, 4.5, 4.5, 4.5, 4.5, 4.5, 4.5, 4.5, 4.5, 4.5, 4.5, 4.55, 4.55, 4.6, 4.6, 4.6, 4.65, 4.65, 4.7, 4.75, 4.75, 4.75, 4.75, 4.75, 4.75, 4.75, 4.95, 5.0, 5.0], \"xaxis\": \"x\", \"y\": [146.81179487362337, 149.47422331965498, 156.13029443473397, 169.442436664892, 176.09850777997102, 182.75457889505003, 196.06672112520803, 202.72279224028705, 202.72279224028705, 202.72279224028705, 202.72279224028705, 209.37886335536606, 209.37886335536606, 209.37886335536606, 216.03493447044508, 222.69100558552407, 222.69100558552407, 229.34707670060305, 229.34707670060305, 236.0031478156821, 236.0031478156821, 242.65921893076109, 242.65921893076109, 249.31529004584013, 249.31529004584013, 255.97136116091912, 255.97136116091912, 255.97136116091912, 262.62743227599816, 269.28350339107715, 269.28350339107715, 269.28350339107715, 269.28350339107715, 275.93957450615613, 282.5956456212352, 282.5956456212352, 282.5956456212352, 282.5956456212352, 286.5892882902826, 289.25171673631417, 289.25171673631417, 289.25171673631417, 295.9077878513932, 295.9077878513932, 295.9077878513932, 295.9077878513932, 295.9077878513932, 295.9077878513932, 302.5638589664722, 302.5638589664722, 302.5638589664722, 302.5638589664722, 309.2199300815512, 309.2199300815512, 309.2199300815512, 315.8760011966302, 315.8760011966302, 315.8760011966302, 319.86964386567763, 322.5320723117092, 322.5320723117092, 322.5320723117092, 322.5320723117092, 329.18814342678826, 329.18814342678826, 329.18814342678826, 329.18814342678826, 330.519357649804, 335.84421454186725, 335.84421454186725, 335.84421454186725, 335.84421454186725, 335.84421454186725, 335.84421454186725, 335.84421454186725, 335.84421454186725, 335.84421454186725, 342.50028565694623, 342.50028565694623, 342.50028565694623, 349.1563567720253, 349.1563567720253, 349.1563567720253, 355.81242788710426, 355.81242788710426, 355.81242788710426, 355.81242788710426, 355.81242788710426, 355.81242788710426, 362.4684990021833, 362.4684990021833, 369.1245701172623, 369.1245701172623, 369.1245701172623, 369.1245701172623, 369.1245701172623, 369.1245701172623, 369.1245701172623, 369.1245701172623, 369.1245701172623, 375.7806412323413, 375.7806412323413, 382.4367123474203, 386.43035501646773, 389.0927834624993, 389.0927834624993, 391.7552119085309, 395.74885457757836, 395.74885457757836, 395.74885457757836, 395.74885457757836, 402.40492569265734, 402.40492569265734, 402.40492569265734, 402.40492569265734, 402.40492569265734, 402.40492569265734, 402.40492569265734, 402.40492569265734, 402.40492569265734, 402.40492569265734, 402.40492569265734, 409.06099680773633, 409.06099680773633, 409.06099680773633, 409.06099680773633, 409.06099680773633, 415.7170679228154, 415.7170679228154, 415.7170679228154, 415.7170679228154, 422.37313903789436, 422.37313903789436, 422.37313903789436, 422.37313903789436, 422.37313903789436, 422.37313903789436, 422.37313903789436, 422.37313903789436, 429.0292101529734, 429.0292101529734, 429.0292101529734, 429.0292101529734, 435.6852812680524, 435.6852812680524, 435.6852812680524, 435.6852812680524, 435.6852812680524, 435.6852812680524, 435.6852812680524, 435.6852812680524, 442.3413523831314, 442.3413523831314, 442.3413523831314, 448.9974234982104, 448.9974234982104, 448.9974234982104, 448.9974234982104, 448.9974234982104, 455.6534946132894, 455.6534946132894, 455.6534946132894, 455.6534946132894, 455.6534946132894, 459.64713728233687, 462.30956572836845, 462.30956572836845, 462.30956572836845, 462.30956572836845, 462.30956572836845, 462.30956572836845, 462.30956572836845, 468.96563684344744, 468.96563684344744, 468.96563684344744, 468.96563684344744, 468.96563684344744, 468.96563684344744, 468.96563684344744, 475.62170795852643, 475.62170795852643, 480.94656485058965, 480.94656485058965, 488.9338501886844, 502.2459924188425, 502.2459924188425, 502.2459924188425, 502.2459924188425, 502.2459924188425, 502.2459924188425, 502.2459924188425, 502.2459924188425, 502.2459924188425, 508.9020635339214, 508.9020635339214, 508.9020635339214, 508.9020635339214, 515.5581346490004, 519.5517773180478, 522.2142057640796, 522.2142057640796, 522.2142057640796, 528.8702768791585, 528.8702768791585, 528.8702768791585, 535.5263479942375, 535.5263479942375, 535.5263479942375, 535.5263479942375, 535.5263479942375, 535.5263479942375, 542.1824191093165, 542.1824191093165, 546.1760617783639, 546.1760617783639, 548.8384902243954, 548.8384902243954, 552.8321328934429, 562.1506324545536, 568.8067035696325, 568.8067035696325, 568.8067035696325, 568.8067035696325, 568.8067035696325, 568.8067035696325, 568.8067035696325, 568.8067035696325, 568.8067035696325, 568.8067035696325, 568.8067035696325, 568.8067035696325, 568.8067035696325, 575.4627746847115, 575.4627746847115, 582.1188457997905, 582.1188457997905, 582.1188457997905, 588.7749169148697, 588.7749169148697, 595.4309880299486, 602.0870591450275, 602.0870591450275, 602.0870591450275, 602.0870591450275, 602.0870591450275, 602.0870591450275, 602.0870591450275, 628.7113436053437, 635.3674147204226, 635.3674147204226], \"yaxis\": \"y\"}],\n",
              "                        {\"legend\": {\"tracegroupgap\": 0}, \"margin\": {\"t\": 60}, \"template\": {\"data\": {\"bar\": [{\"error_x\": {\"color\": \"#2a3f5f\"}, \"error_y\": {\"color\": \"#2a3f5f\"}, \"marker\": {\"line\": {\"color\": \"#E5ECF6\", \"width\": 0.5}}, \"type\": \"bar\"}], \"barpolar\": [{\"marker\": {\"line\": {\"color\": \"#E5ECF6\", \"width\": 0.5}}, \"type\": \"barpolar\"}], \"carpet\": [{\"aaxis\": {\"endlinecolor\": \"#2a3f5f\", \"gridcolor\": \"white\", \"linecolor\": \"white\", \"minorgridcolor\": \"white\", \"startlinecolor\": \"#2a3f5f\"}, \"baxis\": {\"endlinecolor\": \"#2a3f5f\", \"gridcolor\": \"white\", \"linecolor\": \"white\", \"minorgridcolor\": \"white\", \"startlinecolor\": \"#2a3f5f\"}, \"type\": \"carpet\"}], \"choropleth\": [{\"colorbar\": {\"outlinewidth\": 0, \"ticks\": \"\"}, \"type\": \"choropleth\"}], \"contour\": [{\"colorbar\": {\"outlinewidth\": 0, \"ticks\": \"\"}, \"colorscale\": [[0.0, \"#0d0887\"], [0.1111111111111111, \"#46039f\"], [0.2222222222222222, \"#7201a8\"], [0.3333333333333333, \"#9c179e\"], [0.4444444444444444, \"#bd3786\"], [0.5555555555555556, \"#d8576b\"], [0.6666666666666666, \"#ed7953\"], [0.7777777777777778, \"#fb9f3a\"], [0.8888888888888888, \"#fdca26\"], [1.0, \"#f0f921\"]], \"type\": \"contour\"}], \"contourcarpet\": [{\"colorbar\": {\"outlinewidth\": 0, \"ticks\": \"\"}, \"type\": \"contourcarpet\"}], \"heatmap\": [{\"colorbar\": {\"outlinewidth\": 0, \"ticks\": \"\"}, \"colorscale\": [[0.0, \"#0d0887\"], [0.1111111111111111, \"#46039f\"], [0.2222222222222222, \"#7201a8\"], [0.3333333333333333, \"#9c179e\"], [0.4444444444444444, \"#bd3786\"], [0.5555555555555556, \"#d8576b\"], [0.6666666666666666, \"#ed7953\"], [0.7777777777777778, \"#fb9f3a\"], [0.8888888888888888, \"#fdca26\"], [1.0, \"#f0f921\"]], \"type\": \"heatmap\"}], \"heatmapgl\": [{\"colorbar\": {\"outlinewidth\": 0, \"ticks\": \"\"}, \"colorscale\": [[0.0, \"#0d0887\"], [0.1111111111111111, \"#46039f\"], [0.2222222222222222, \"#7201a8\"], [0.3333333333333333, \"#9c179e\"], [0.4444444444444444, \"#bd3786\"], [0.5555555555555556, \"#d8576b\"], [0.6666666666666666, \"#ed7953\"], [0.7777777777777778, \"#fb9f3a\"], [0.8888888888888888, \"#fdca26\"], [1.0, \"#f0f921\"]], \"type\": \"heatmapgl\"}], \"histogram\": [{\"marker\": {\"colorbar\": {\"outlinewidth\": 0, \"ticks\": \"\"}}, \"type\": \"histogram\"}], \"histogram2d\": [{\"colorbar\": {\"outlinewidth\": 0, \"ticks\": \"\"}, \"colorscale\": [[0.0, \"#0d0887\"], [0.1111111111111111, \"#46039f\"], [0.2222222222222222, \"#7201a8\"], [0.3333333333333333, \"#9c179e\"], [0.4444444444444444, \"#bd3786\"], [0.5555555555555556, \"#d8576b\"], [0.6666666666666666, \"#ed7953\"], [0.7777777777777778, \"#fb9f3a\"], [0.8888888888888888, \"#fdca26\"], [1.0, \"#f0f921\"]], \"type\": \"histogram2d\"}], \"histogram2dcontour\": [{\"colorbar\": {\"outlinewidth\": 0, \"ticks\": \"\"}, \"colorscale\": [[0.0, \"#0d0887\"], [0.1111111111111111, \"#46039f\"], [0.2222222222222222, \"#7201a8\"], [0.3333333333333333, \"#9c179e\"], [0.4444444444444444, \"#bd3786\"], [0.5555555555555556, \"#d8576b\"], [0.6666666666666666, \"#ed7953\"], [0.7777777777777778, \"#fb9f3a\"], [0.8888888888888888, \"#fdca26\"], [1.0, \"#f0f921\"]], \"type\": \"histogram2dcontour\"}], \"mesh3d\": [{\"colorbar\": {\"outlinewidth\": 0, \"ticks\": \"\"}, \"type\": \"mesh3d\"}], \"parcoords\": [{\"line\": {\"colorbar\": {\"outlinewidth\": 0, \"ticks\": \"\"}}, \"type\": \"parcoords\"}], \"pie\": [{\"automargin\": true, \"type\": \"pie\"}], \"scatter\": [{\"marker\": {\"colorbar\": {\"outlinewidth\": 0, \"ticks\": \"\"}}, \"type\": \"scatter\"}], \"scatter3d\": [{\"line\": {\"colorbar\": {\"outlinewidth\": 0, \"ticks\": \"\"}}, \"marker\": {\"colorbar\": {\"outlinewidth\": 0, \"ticks\": \"\"}}, \"type\": \"scatter3d\"}], \"scattercarpet\": [{\"marker\": {\"colorbar\": {\"outlinewidth\": 0, \"ticks\": \"\"}}, \"type\": \"scattercarpet\"}], \"scattergeo\": [{\"marker\": {\"colorbar\": {\"outlinewidth\": 0, \"ticks\": \"\"}}, \"type\": \"scattergeo\"}], \"scattergl\": [{\"marker\": {\"colorbar\": {\"outlinewidth\": 0, \"ticks\": \"\"}}, \"type\": \"scattergl\"}], \"scattermapbox\": [{\"marker\": {\"colorbar\": {\"outlinewidth\": 0, \"ticks\": \"\"}}, \"type\": \"scattermapbox\"}], \"scatterpolar\": [{\"marker\": {\"colorbar\": {\"outlinewidth\": 0, \"ticks\": \"\"}}, \"type\": \"scatterpolar\"}], \"scatterpolargl\": [{\"marker\": {\"colorbar\": {\"outlinewidth\": 0, \"ticks\": \"\"}}, \"type\": \"scatterpolargl\"}], \"scatterternary\": [{\"marker\": {\"colorbar\": {\"outlinewidth\": 0, \"ticks\": \"\"}}, \"type\": \"scatterternary\"}], \"surface\": [{\"colorbar\": {\"outlinewidth\": 0, \"ticks\": \"\"}, \"colorscale\": [[0.0, \"#0d0887\"], [0.1111111111111111, \"#46039f\"], [0.2222222222222222, \"#7201a8\"], [0.3333333333333333, \"#9c179e\"], [0.4444444444444444, \"#bd3786\"], [0.5555555555555556, \"#d8576b\"], [0.6666666666666666, \"#ed7953\"], [0.7777777777777778, \"#fb9f3a\"], [0.8888888888888888, \"#fdca26\"], [1.0, \"#f0f921\"]], \"type\": \"surface\"}], \"table\": [{\"cells\": {\"fill\": {\"color\": \"#EBF0F8\"}, \"line\": {\"color\": \"white\"}}, \"header\": {\"fill\": {\"color\": \"#C8D4E3\"}, \"line\": {\"color\": \"white\"}}, \"type\": \"table\"}]}, \"layout\": {\"annotationdefaults\": {\"arrowcolor\": \"#2a3f5f\", \"arrowhead\": 0, \"arrowwidth\": 1}, \"coloraxis\": {\"colorbar\": {\"outlinewidth\": 0, \"ticks\": \"\"}}, \"colorscale\": {\"diverging\": [[0, \"#8e0152\"], [0.1, \"#c51b7d\"], [0.2, \"#de77ae\"], [0.3, \"#f1b6da\"], [0.4, \"#fde0ef\"], [0.5, \"#f7f7f7\"], [0.6, \"#e6f5d0\"], [0.7, \"#b8e186\"], [0.8, \"#7fbc41\"], [0.9, \"#4d9221\"], [1, \"#276419\"]], \"sequential\": [[0.0, \"#0d0887\"], [0.1111111111111111, \"#46039f\"], [0.2222222222222222, \"#7201a8\"], [0.3333333333333333, \"#9c179e\"], [0.4444444444444444, \"#bd3786\"], [0.5555555555555556, \"#d8576b\"], [0.6666666666666666, \"#ed7953\"], [0.7777777777777778, \"#fb9f3a\"], [0.8888888888888888, \"#fdca26\"], [1.0, \"#f0f921\"]], \"sequentialminus\": [[0.0, \"#0d0887\"], [0.1111111111111111, \"#46039f\"], [0.2222222222222222, \"#7201a8\"], [0.3333333333333333, \"#9c179e\"], [0.4444444444444444, \"#bd3786\"], [0.5555555555555556, \"#d8576b\"], [0.6666666666666666, \"#ed7953\"], [0.7777777777777778, \"#fb9f3a\"], [0.8888888888888888, \"#fdca26\"], [1.0, \"#f0f921\"]]}, \"colorway\": [\"#636efa\", \"#EF553B\", \"#00cc96\", \"#ab63fa\", \"#FFA15A\", \"#19d3f3\", \"#FF6692\", \"#B6E880\", \"#FF97FF\", \"#FECB52\"], \"font\": {\"color\": \"#2a3f5f\"}, \"geo\": {\"bgcolor\": \"white\", \"lakecolor\": \"white\", \"landcolor\": \"#E5ECF6\", \"showlakes\": true, \"showland\": true, \"subunitcolor\": \"white\"}, \"hoverlabel\": {\"align\": \"left\"}, \"hovermode\": \"closest\", \"mapbox\": {\"style\": \"light\"}, \"paper_bgcolor\": \"white\", \"plot_bgcolor\": \"#E5ECF6\", \"polar\": {\"angularaxis\": {\"gridcolor\": \"white\", \"linecolor\": \"white\", \"ticks\": \"\"}, \"bgcolor\": \"#E5ECF6\", \"radialaxis\": {\"gridcolor\": \"white\", \"linecolor\": \"white\", \"ticks\": \"\"}}, \"scene\": {\"xaxis\": {\"backgroundcolor\": \"#E5ECF6\", \"gridcolor\": \"white\", \"gridwidth\": 2, \"linecolor\": \"white\", \"showbackground\": true, \"ticks\": \"\", \"zerolinecolor\": \"white\"}, \"yaxis\": {\"backgroundcolor\": \"#E5ECF6\", \"gridcolor\": \"white\", \"gridwidth\": 2, \"linecolor\": \"white\", \"showbackground\": true, \"ticks\": \"\", \"zerolinecolor\": \"white\"}, \"zaxis\": {\"backgroundcolor\": \"#E5ECF6\", \"gridcolor\": \"white\", \"gridwidth\": 2, \"linecolor\": \"white\", \"showbackground\": true, \"ticks\": \"\", \"zerolinecolor\": \"white\"}}, \"shapedefaults\": {\"line\": {\"color\": \"#2a3f5f\"}}, \"ternary\": {\"aaxis\": {\"gridcolor\": \"white\", \"linecolor\": \"white\", \"ticks\": \"\"}, \"baxis\": {\"gridcolor\": \"white\", \"linecolor\": \"white\", \"ticks\": \"\"}, \"bgcolor\": \"#E5ECF6\", \"caxis\": {\"gridcolor\": \"white\", \"linecolor\": \"white\", \"ticks\": \"\"}}, \"title\": {\"x\": 0.05}, \"xaxis\": {\"automargin\": true, \"gridcolor\": \"white\", \"linecolor\": \"white\", \"ticks\": \"\", \"title\": {\"standoff\": 15}, \"zerolinecolor\": \"white\", \"zerolinewidth\": 2}, \"yaxis\": {\"automargin\": true, \"gridcolor\": \"white\", \"linecolor\": \"white\", \"ticks\": \"\", \"title\": {\"standoff\": 15}, \"zerolinecolor\": \"white\", \"zerolinewidth\": 2}}}, \"xaxis\": {\"anchor\": \"y\", \"domain\": [0.0, 1.0], \"title\": {\"text\": \"sEXT\"}}, \"yaxis\": {\"anchor\": \"x\", \"domain\": [0.0, 1.0], \"title\": {\"text\": \"NETWORKSIZE\"}}},\n",
              "                        {\"responsive\": true}\n",
              "                    ).then(function(){\n",
              "                            \n",
              "var gd = document.getElementById('b24255be-ec7a-4b2c-afa7-39d8ab887a76');\n",
              "var x = new MutationObserver(function (mutations, observer) {{\n",
              "        var display = window.getComputedStyle(gd).display;\n",
              "        if (!display || display === 'none') {{\n",
              "            console.log([gd, 'removed!']);\n",
              "            Plotly.purge(gd);\n",
              "            observer.disconnect();\n",
              "        }}\n",
              "}});\n",
              "\n",
              "// Listen for the removal of the full notebook cells\n",
              "var notebookContainer = gd.closest('#notebook-container');\n",
              "if (notebookContainer) {{\n",
              "    x.observe(notebookContainer, {childList: true});\n",
              "}}\n",
              "\n",
              "// Listen for the clearing of the current output cell\n",
              "var outputEl = gd.closest('.output');\n",
              "if (outputEl) {{\n",
              "    x.observe(outputEl, {childList: true});\n",
              "}}\n",
              "\n",
              "                        })\n",
              "                };\n",
              "                \n",
              "            </script>\n",
              "        </div>\n",
              "</body>\n",
              "</html>"
            ]
          },
          "metadata": {
            "tags": []
          },
          "output_type": "display_data"
        }
      ],
      "source": [
        "fig = px.scatter(df, x=\"sEXT\", y=\"NETWORKSIZE\", trendline=\"ols\", trendline_color_override='red')\n",
        "fig.show();"
      ]
    }
  ],
  "metadata": {
    "colab": {
      "collapsed_sections": [],
      "name": "Clase 4.ipynb",
      "provenance": []
    },
    "kernelspec": {
      "display_name": "Python 3",
      "name": "python3"
    },
    "language_info": {
      "name": "python"
    }
  },
  "nbformat": 4,
  "nbformat_minor": 0
}
