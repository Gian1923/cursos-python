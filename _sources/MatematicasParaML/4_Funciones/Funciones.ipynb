{
  "cells": [
    {
      "cell_type": "markdown",
      "metadata": {
        "id": "2uRmNOoOb0wZ"
      },
      "source": [
        "[![Open In colab](https://colab.research.google.com/assets/colab-badge.svg)](https://colab.research.google.com/github/institutohumai/cursos-python/blob/master/MatematicasParaML/4_Funciones/Funciones.ipynb)"
      ]
    },
    {
      "cell_type": "markdown",
      "metadata": {
        "id": "j7HfLTEtcakC"
      },
      "source": [
        "# Funciones"
      ]
    },
    {
      "cell_type": "markdown",
      "metadata": {
        "id": "T9lT_rB9cAlz"
      },
      "source": [
        "La historia del cálculo es una de la mejores historias no contadas. Es la historia de como logramos dominar el infinito, de como logramos tratar objetos complejos como colecciones de objetos más simples. Es la historia de como hace más de 2000 años empezamos a dominar las herramientas que potencia casi la totalidad de nuestras tecnologías. Sin el cálculo no tendríamos telecomunicaciones, no tendríamos motores, no tendríamos heladeras, no tendríamos ventiladores...\n",
        "\n",
        "El cálculo ha sido la principal herramienta de la física desde su primer esbozo con Newton y Leibniz. Pero ellos no fueron ni los primeros ni lo únicos. Newton no reparaba en humiladad cuando hablaba de estar parado en los hombres de gigantes. Son un compendio de historias que debemos escuchar. Son historias de como pequeñas ideas dan lugar a grandes desarrollos. Es también la historia de la miseria humana, de como los propios egos nos carcomen por dentro. Es la historia de como pasamos de contar y dibujar a como pasamos a diseñar, inventar, especular y mejorar la calidad de vida.\n",
        "\n",
        "Esta presentación esta muy fuente inspirada en el libro **[Infinite Power](https://www.stevenstrogatz.com/books/infinite-powers)** de Steven Strogatz. Strogatz es un matemático especializado en aplicaciones y como tal cuenta la historia del cálculo con los conflictos y las contradicciones de la época. Nos cuenta como el cambio de conceptaulización permitió no solo el telegrafo o el diseño de vigas, sino tambien mejoras en el tratamiento del SIDA.\n",
        "\n",
        "A la base de la estadísitica moderna está el cálculo y su poder. Es por esto que si queremos aprender Machine Learning, pues más vale que entendamos algo de cálculo\n"
      ]
    },
    {
      "cell_type": "markdown",
      "metadata": {
        "id": "73ZgmjNucfRP"
      },
      "source": [
        "## Funcion, plano cartesiano y Descartes"
      ]
    },
    {
      "cell_type": "markdown",
      "metadata": {
        "id": "_wfP-_lGdM7W"
      },
      "source": [
        "Como toda gran epopeya, requerimos un heroe y un antagónista. Empecemos con nuestro gran antagonista: Rene Descartes. Descartes se había convertido en EL filósofo de su época. No solo era interesante la forma en que proponía hacer filosofía, sino también como había intentado acercar las matemáticas a su pensamiento. Además era un filósofo que había estado al servicio de muchos señores feudales y que había estudiado en las mejores universidades. Era un hijo prodigo de la academia de su tiempo. Además había tenido formación militar y participado de guerras religiosas de la época. En algún sentido era todo lo que se esperaba de un hombre en la época.\n",
        "\n",
        "Gracias a Descartes y su geometría analítica tenemos la idea de función matemática moderna. De hecho, \"El discurso del método\" de Descartes era una prólogo a \"La Geometrie\", el libro fundacional de la geometría analitica. El nombre de ejes catesianos, se debe a Descartes.\n",
        "\n",
        "Antes de proseguir, es una buena idea que entendamos el concepto de fúnción matemática como lo definen los matemáticos. Para esto tomaremos las funciones de Python y luego hablaremos sus diferencias con la función matemática. En este desarrollo usaremos la noción contemporanea de función, que es levemente distinta a la idea de Descartes, pero que es la definición más aceptada por los matemáticos."
      ]
    },
    {
      "cell_type": "markdown",
      "metadata": {
        "id": "ddoG9xlXdcIc"
      },
      "source": [
        "### ¿Qué es una función?\n"
      ]
    },
    {
      "cell_type": "markdown",
      "metadata": {
        "id": "yIh081p7dl8r"
      },
      "source": [
        "Sabemos lo que es una función en programación. Muy esquematicamente, una función es una forma de reutilizar nuestro código sin tener que repetir las mismas instrucciones. Una función nos permite guardar una serie de instrucciones para usarlas sobre nuestros datos cada vez que lo necesitemos."
      ]
    },
    {
      "cell_type": "code",
      "execution_count": null,
      "metadata": {
        "id": "iDs3lKO8dpy5"
      },
      "outputs": [],
      "source": [
        "def mensaje():\n",
        "  print(\"Hola soy un mensaje.\")\n",
        "  print(\"La vida de las mensajes es corta.\")\n",
        "  print(\"Aparecemos en pantalla y morimos.\")\n",
        "\n",
        "mensaje()"
      ]
    },
    {
      "cell_type": "markdown",
      "metadata": {
        "id": "JW_ihwy6dtyA"
      },
      "source": [
        "En este ejemplo, nuestra función `mensaje()` solo hace una serie de instrucciones. Esta función, no tiene argumentos y no devuelve ningun tipo de valores o resultado.\n",
        "\n",
        "Si bien esto es una función en el sentido de lenguajes de programación, no es una **función matemática**\n",
        "\n",
        "Esta diferencia entre una función matemática y una serie de procedimientos era tenida en lenguajes de programación como Fortran (creado en la decada del 50). La razón para introducir esta diferencia entre función matemática y función en lenguajes de computación es para poder hablar de  **cálculo**.\n",
        "\n",
        "Una función matemática, a los términos prácticos, es una caja negra. Como caja negra, nuestra función recibe una entrada definida, devuelve una una salida **definida**. Tanto la entrada como la salida deben ser valores. En caso contrario, no es una función *en el sentido matemático*."
      ]
    },
    {
      "cell_type": "code",
      "execution_count": null,
      "metadata": {
        "id": "jSSPcN3Rd9j6"
      },
      "outputs": [],
      "source": [
        "import random\n",
        "\n",
        "def NoFuncion1():\n",
        "  print(\"No soy una función.\")\n",
        "  print(\"No tengo entradas ni salidas\")\n",
        "\n",
        "def NoFuncion2(a):\n",
        "  print(\"No soy una función.\")\n",
        "  print(\"Tengo entradas: \", a)\n",
        "  print(\"Pero, no tengo salidas\")\n",
        "\n",
        "def NoFuncion3():\n",
        "  result = 1\n",
        "  print(\"No soy una función.\")\n",
        "  print(\"Tengo salidas: \", result)\n",
        "  print(\"Pero, no tengo entradas\")\n",
        "  return result\n",
        "\n",
        "def NoFuncion4(a):\n",
        "  result = random.randrange(10)\n",
        "  print(\"No soy una función.\")\n",
        "  print(\"Tengo entradas: \", a)\n",
        "  print(\"Tengo salidas: \", result)\n",
        "  print(\"Pero mi salida no está definida.\")\n",
        "  print(\"Mi salida es aleatoria\")\n",
        "  return result\n",
        "\n",
        "def ProperFuncion(a):\n",
        "  result = 1\n",
        "  print(\"No soy una función.\")\n",
        "  print(\"Tengo entradas: \", a)\n",
        "  print(\"Tengo salidas: \", result)\n",
        "  return result"
      ]
    },
    {
      "cell_type": "markdown",
      "metadata": {
        "id": "OOKRE4N5d6xC"
      },
      "source": [
        "Otra diferencia entre funciones dentro de lenguajes de programáción y funciones matemáticas es que las funciones matemáticas no prescriben la forma de calculo"
      ]
    },
    {
      "cell_type": "code",
      "execution_count": null,
      "metadata": {
        "id": "GaS5v6bueMo7"
      },
      "outputs": [],
      "source": [
        "def duplicate(x : int):\n",
        "  return 2 * x\n",
        "\n",
        "def duplicar(x : int):\n",
        "  result = x\n",
        "  for i in range(x):\n",
        "    result += 1\n",
        "  return result\n",
        "\n",
        "def daburu(x : int):\n",
        "  x += x\n",
        "  return x\n",
        "\n",
        "daburu(2), duplicate(2), duplicar(2)"
      ]
    },
    {
      "cell_type": "markdown",
      "metadata": {
        "id": "H8erqLfceIXw"
      },
      "source": [
        "En este caso hemos definido 3 funciones. Todas ellas calculan el doble de un número. pero lo hacen de 3 maneras distintas:\n",
        "\n",
        "* `duplicate` obtiene el doble  por medio de multiplicaciones\n",
        "* `duplicar` obtiene el doble con incrementos constantes. Estos incrementos constantes siempre valen 1. Este aumento se realiza varias veces, hasta llegar al resultado\n",
        "* `daburu` obtiene el doble por medio sumas \n",
        "\n",
        "La definición de **función matemática** no dice como debemos calculara la función. Solo nos relaciona entradas con salidas. En este sentido, las funciones matemáticas son una abtracción mucho mayor y por esto decimos que se comportan como verdaderas cajas negras."
      ]
    },
    {
      "cell_type": "markdown",
      "metadata": {
        "id": "Q7IC8TdoelAD"
      },
      "source": [
        "Cuando empezamos a trabajar con Python, dijimos que Python es un lenguaje de tipado dinámico. Es decir, una variable puede representar un número en un momento, una cadena de caracteres en otro y una lista en otros.\n",
        "\n",
        "Si uno quisiera comparar funciones en Python con las funciones matemáticas, un debería decir que las funciones matemáticas se comportan entidades de lenguajes de tipado estricto. Si la entrada a una función son números enteros, la función no puede recibir números reales."
      ]
    },
    {
      "cell_type": "code",
      "execution_count": null,
      "metadata": {
        "id": "V6A6HBL7ey6T"
      },
      "outputs": [],
      "source": [
        "# Ejemplo de tipado dinámico\n",
        "\n",
        "a = \"mensaje\"\n",
        "print(a)\n",
        "a = 2.2\n",
        "print(a)\n",
        "a = 10\n",
        "print(a)\n",
        "a = [1,0]\n",
        "print(a)\n"
      ]
    },
    {
      "cell_type": "markdown",
      "metadata": {
        "id": "zmU2CljFeyk5"
      },
      "source": [
        "En tipado estático, si la variable `a`  era un string, no podemos asignar nada que no sea string. La función `print`, también tiene algo similar al tipado dinámico. Recibe la variable `a` y hace algo, una función matemática no podría hacer nada si `a` no fuera del tipo correcto.\n",
        "\n",
        "Por ejemplo, en el lenguaje C, la función `printf` debe recibir siempre como primer argumento una cadena de caracteres. Caso contrario, el programa fallará. En C, `printf` se comporta como una función en el sentido matemático. `printf`, no solo admite un solo tipo de entrada sino que además tiene una salida definida (La salida de `printf` es la cantidad de caracteres enviados a la pantalla)"
      ]
    },
    {
      "cell_type": "markdown",
      "metadata": {
        "id": "l6JsJjFMeyhY"
      },
      "source": [
        "Este punto sobre las diferencias entre funciones matemáticas y funciones en lenguajes de programción es muy importante. Para hablar de cálculo diferencial necesitamos que nuestra entrada sean números reales o cosas que se comportan como los números reales, por ejemplo vectores de componentes reales. Es por esto que en cálculo diferencial solo le interesan las funciones con entradas reales y salidas reales. Desde el punto de vista matemático, son las propiedades de los números reales, las que dan sentido al cálculo."
      ]
    },
    {
      "cell_type": "markdown",
      "metadata": {
        "id": "XBljoHSNhNO-"
      },
      "source": [
        "Por último, debemos señalar la utilidad de las funciones matemáticas en el contexto de su invención. Las funciones matemáticas surgen para poder representar de manera geométrica expresiones algebraicas. La genialidad de Descartes, fue poder usar la potencia del álgebra árabe en el conexto de la geometría griega. Ahora era posible saber propiedades de expresiones algebraicas, a partir de propiedades geométricas de una curva y viceversa."
      ]
    },
    {
      "cell_type": "markdown",
      "metadata": {
        "id": "PIX7CWGkh_ic"
      },
      "source": [
        "aca habría que hacer dibujitos"
      ]
    },
    {
      "cell_type": "markdown",
      "metadata": {
        "id": "NTfDLO6RgwH_"
      },
      "source": [
        "## Resumen"
      ]
    },
    {
      "cell_type": "markdown",
      "metadata": {
        "id": "pNaprs0SfWlC"
      },
      "source": [
        "Función de Python\n",
        "1. Existe para poder abstraer código y evitar repeticiones innecesarias\n",
        "1. No requiere entradas ni salidas\n",
        "2. Requiere una implementación clara de los procedimientos\n",
        "3. Por las características de Python, la entrada y la salida no tiene tipos definidos.\n",
        "\n",
        "Función matemática\n",
        "1. Noción surgida como puente entre la geometría griega y el álgebra árabe. Descartes descubre que ahora era posible dibujar entidades matemáticas abstractas en un plano.\n",
        "2. Toda función matemática DEBE tener entrada y salida.\n",
        "3. Solo relaciona entradas con salidas. No prescribe ningún procedimiento para obtener un resultado\n",
        "4. Las características de la entrada y la salida estan bien definidas. Si una función es de reales a enteros, solo puede recibir números reales como entrada y solo puede devolver números enteros."
      ]
    },
    {
      "cell_type": "markdown",
      "metadata": {
        "id": "xUBoEcl1iQer"
      },
      "source": [
        "# El camino sigue y sigue\n"
      ]
    },
    {
      "cell_type": "markdown",
      "metadata": {
        "id": "0cGzdHikiRXJ"
      },
      "source": [
        "Una de las primeras ideas que tuvo Descartes para usar su nueva geometría fue tratar de usar lo aprendido para encontrar cantidades mínimas o máximas de sus nuevas funciones. La idea no es extraña, uno puede pensar en cosas como: ¿cuándo sera la máxima crecida de un río este año? ¿Que día tendrá más horas con luz diurna? Hay una dimensión práctica en estas ideas aún cuando podían ser formalizadas en las nuevas ideas de Descartes y su geometría analítica.\n",
        "\n",
        "Sin embargo es aqui donde entra el heroe de nuestra historia. El hombre que le mostró a Descartes que sus ideas no eran las mejores y que habían mejores soluciones. Este hombre fue Pierre de Fermat. Fermat, además de ser abogado, era matemático amateur. Tal vez fue el último gran matemático amateur y en parte por lo influyente que fueron sus ideas. Fermat había ideado un método para encontrar mínimos. Su método erá más sencillo que el de Descartes. Además las bases de las ideas de Fermat dieron lugar a la noción de derivada que es la última herramienta que se desarrollo en el cálculo. La ideas de Fermat fueron tan influyentes que dieron lugar a herramientas matemáticas tan poderosas, que haría muy dificil la aparición de más matemáticos amateurs. Comencemos con un ejemplo de esto.\n",
        "\n",
        "## Dada una serie de puntos, cual es el número que esta más cerca de ellos.\n"
      ]
    },
    {
      "cell_type": "code",
      "execution_count": null,
      "metadata": {
        "colab": {
          "base_uri": "https://localhost:8080/"
        },
        "id": "sBNMVnalifDX",
        "outputId": "6011f05b-cfc4-4242-b82a-88d3da3e657b"
      },
      "outputs": [
        {
          "data": {
            "text/plain": [
              "(1.436587565225911,\n",
              " array([0.09295142, 0.970362  , 0.05145769, 0.58944726, 0.36911953]))"
            ]
          },
          "execution_count": 12,
          "metadata": {},
          "output_type": "execute_result"
        }
      ],
      "source": [
        "from random import random\n",
        "import numpy as np\n",
        "\n",
        "numbers = np.random.random(5)\n",
        "\n",
        "def closest(d,numbers):\n",
        "  return np.square(numbers - d).sum()\n",
        "\n",
        "closest(0,numbers), numbers"
      ]
    },
    {
      "cell_type": "markdown",
      "metadata": {
        "id": "2CNKpU1vm-ey"
      },
      "source": [
        "agregar dibujito de la parabola"
      ]
    },
    {
      "cell_type": "markdown",
      "metadata": {
        "id": "INj4uckQpY85"
      },
      "source": [
        "Lo que estoy por decir, es lo que tanto Descartes como Fermat habían notado. Existe un punto, correspondiente al mínimo, donde la función tiene una recta tangente horizontal. Descartes, al ver esto, propuso que un círculo tangente a ese punto podía usarse encontrar el mínimo. Fermát, por el contrario encontró una técnica para encontrar esta recta tangente. No solo esto, Fermat había encontrado una de las grandes herramientas de la cienca moderna. Había triunfado donde Descartes había fracasado. Demás está decir que Descartes no lo tomo para bien cuando descubrió esto. Cuando dije al principio que la historia de el cálculo era \"la historia de como los propios egos nos carcomen por dentro\" me refería a como el ego de Descartes quiso hacerle la vida imposible a Fermat y como Fermat salió airoso. \n",
        "\n",
        "No solo Fermat fue el gran pionero en la noción de derivada, sino que además había inventado la estructura básica de todos los problemas de optimización. Mismos problemas con los que todavía atormetamos a los alumanos de cálculo. Todo desde su cómodo sofá en Francia. En la oficina donde obraba como abogado"
      ]
    },
    {
      "cell_type": "markdown",
      "metadata": {
        "id": "ZBiqAzLiqUmx"
      },
      "source": [
        "Para más información sobre el truco que descubrió Fermat, sugerimos que revisen el libro de Strogatz. (o lo podemos traducir)"
      ]
    },
    {
      "cell_type": "markdown",
      "metadata": {
        "id": "Wl7zEp-hp0xq"
      },
      "source": [
        "Nuestra intención ahora será obtener una respuesta alternativa a la que ideo Fermat. Así como vimos que hay un mínimo en nuestra función, también podemos ver que en un mínimo ocurren algo interesante. Hay una parte donde la función decrece, llegamos al mínimo y luego tenemos un máximo.\n"
      ]
    },
    {
      "cell_type": "markdown",
      "metadata": {
        "id": "koT8TBb12v9y"
      },
      "source": [
        "LA idea aca es describir lo que hice en desmos. como armar algo que parece calcular una derivada, y como armar una ewspecie de descencos de grdientes\n",
        "\n",
        "Hay que meter código"
      ]
    },
    {
      "cell_type": "markdown",
      "metadata": {
        "id": "y15G2FaZ4toQ"
      },
      "source": [
        "\n",
        "si pidieramos que la separeción se acerque más y más a cero eventualmente llegaríamos a la tangente. Este es el concepto de derivada, en última instancia. Por eso decimos que Fermat dio las primeras ideas para la idea de derivada.\n",
        "\n",
        "############################### Coda caso continuo y multivariable\n",
        "\n",
        "hablamos del número mas cercano a un conjunto de valroes. \n"
      ]
    }
  ],
  "metadata": {
    "colab": {
      "collapsed_sections": [],
      "name": "Funciones y optimización.ipynb",
      "provenance": []
    },
    "kernelspec": {
      "display_name": "Python 3",
      "name": "python3"
    },
    "language_info": {
      "name": "python"
    }
  },
  "nbformat": 4,
  "nbformat_minor": 0
}
